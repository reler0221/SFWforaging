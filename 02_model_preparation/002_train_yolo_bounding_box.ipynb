{
 "cells": [
  {
   "cell_type": "code",
   "execution_count": 1,
   "id": "d011af36-6f6a-4827-9319-d0401eae69ed",
   "metadata": {},
   "outputs": [
    {
     "name": "stdout",
     "output_type": "stream",
     "text": [
      "New https://pypi.org/project/ultralytics/8.3.98 available 😃 Update with 'pip install -U ultralytics'\n",
      "Ultralytics 8.3.37 🚀 Python-3.10.14 torch-2.1.2+cu121 CUDA:0 (NVIDIA GeForce RTX 2070, 7965MiB)\n",
      "\u001b[34m\u001b[1mengine/trainer: \u001b[0mtask=detect, mode=train, model=yolov8n.pt, data=/media/andre/T5 EVO/Foraging HD/YOLO_model_input/04_Birds_background/data4.yaml, epochs=60, time=None, patience=100, batch=16, imgsz=640, save=True, save_period=-1, cache=False, device=cuda, workers=8, project=None, name=train, exist_ok=False, pretrained=True, optimizer=auto, verbose=True, seed=0, deterministic=True, single_cls=False, rect=False, cos_lr=False, close_mosaic=10, resume=False, amp=True, fraction=1.0, profile=False, freeze=None, multi_scale=False, overlap_mask=True, mask_ratio=4, dropout=0.0, val=True, split=val, save_json=False, save_hybrid=False, conf=None, iou=0.7, max_det=300, half=False, dnn=False, plots=True, source=None, vid_stride=1, stream_buffer=False, visualize=False, augment=False, agnostic_nms=False, classes=None, retina_masks=False, embed=None, show=False, save_frames=False, save_txt=False, save_conf=False, save_crop=False, show_labels=True, show_conf=True, show_boxes=True, line_width=None, format=torchscript, keras=False, optimize=False, int8=False, dynamic=False, simplify=True, opset=None, workspace=None, nms=False, lr0=0.01, lrf=0.01, momentum=0.937, weight_decay=0.0005, warmup_epochs=3.0, warmup_momentum=0.8, warmup_bias_lr=0.1, box=7.5, cls=0.5, dfl=1.5, pose=12.0, kobj=1.0, label_smoothing=0.0, nbs=64, hsv_h=0.015, hsv_s=0.7, hsv_v=0.4, degrees=0.0, translate=0.1, scale=0.5, shear=0.0, perspective=0.0, flipud=0.0, fliplr=0.5, bgr=0.0, mosaic=1.0, mixup=0.0, copy_paste=0.0, copy_paste_mode=flip, auto_augment=randaugment, erasing=0.4, crop_fraction=1.0, cfg=None, tracker=botsort.yaml, save_dir=runs/detect/train\n",
      "Overriding model.yaml nc=80 with nc=1\n",
      "\n",
      "                   from  n    params  module                                       arguments                     \n",
      "  0                  -1  1       464  ultralytics.nn.modules.conv.Conv             [3, 16, 3, 2]                 \n",
      "  1                  -1  1      4672  ultralytics.nn.modules.conv.Conv             [16, 32, 3, 2]                \n",
      "  2                  -1  1      7360  ultralytics.nn.modules.block.C2f             [32, 32, 1, True]             \n",
      "  3                  -1  1     18560  ultralytics.nn.modules.conv.Conv             [32, 64, 3, 2]                \n",
      "  4                  -1  2     49664  ultralytics.nn.modules.block.C2f             [64, 64, 2, True]             \n",
      "  5                  -1  1     73984  ultralytics.nn.modules.conv.Conv             [64, 128, 3, 2]               \n",
      "  6                  -1  2    197632  ultralytics.nn.modules.block.C2f             [128, 128, 2, True]           \n",
      "  7                  -1  1    295424  ultralytics.nn.modules.conv.Conv             [128, 256, 3, 2]              \n",
      "  8                  -1  1    460288  ultralytics.nn.modules.block.C2f             [256, 256, 1, True]           \n",
      "  9                  -1  1    164608  ultralytics.nn.modules.block.SPPF            [256, 256, 5]                 \n",
      " 10                  -1  1         0  torch.nn.modules.upsampling.Upsample         [None, 2, 'nearest']          \n",
      " 11             [-1, 6]  1         0  ultralytics.nn.modules.conv.Concat           [1]                           \n",
      " 12                  -1  1    148224  ultralytics.nn.modules.block.C2f             [384, 128, 1]                 \n",
      " 13                  -1  1         0  torch.nn.modules.upsampling.Upsample         [None, 2, 'nearest']          \n",
      " 14             [-1, 4]  1         0  ultralytics.nn.modules.conv.Concat           [1]                           \n",
      " 15                  -1  1     37248  ultralytics.nn.modules.block.C2f             [192, 64, 1]                  \n",
      " 16                  -1  1     36992  ultralytics.nn.modules.conv.Conv             [64, 64, 3, 2]                \n",
      " 17            [-1, 12]  1         0  ultralytics.nn.modules.conv.Concat           [1]                           \n",
      " 18                  -1  1    123648  ultralytics.nn.modules.block.C2f             [192, 128, 1]                 \n",
      " 19                  -1  1    147712  ultralytics.nn.modules.conv.Conv             [128, 128, 3, 2]              \n",
      " 20             [-1, 9]  1         0  ultralytics.nn.modules.conv.Concat           [1]                           \n",
      " 21                  -1  1    493056  ultralytics.nn.modules.block.C2f             [384, 256, 1]                 \n",
      " 22        [15, 18, 21]  1    751507  ultralytics.nn.modules.head.Detect           [1, [64, 128, 256]]           \n",
      "Model summary: 225 layers, 3,011,043 parameters, 3,011,027 gradients, 8.2 GFLOPs\n",
      "\n",
      "Transferred 319/355 items from pretrained weights\n",
      "\u001b[34m\u001b[1mTensorBoard: \u001b[0mStart with 'tensorboard --logdir runs/detect/train', view at http://localhost:6006/\n",
      "Freezing layer 'model.22.dfl.conv.weight'\n",
      "\u001b[34m\u001b[1mAMP: \u001b[0mrunning Automatic Mixed Precision (AMP) checks...\n",
      "\u001b[34m\u001b[1mAMP: \u001b[0mchecks passed ✅\n"
     ]
    },
    {
     "name": "stderr",
     "output_type": "stream",
     "text": [
      "\u001b[34m\u001b[1mtrain: \u001b[0mScanning /media/andre/T5 EVO/Foraging HD/YOLO_model_input/04_Birds_backgr\u001b[0m\n"
     ]
    },
    {
     "name": "stdout",
     "output_type": "stream",
     "text": [
      "\u001b[34m\u001b[1mtrain: \u001b[0mNew cache created: /media/andre/T5 EVO/Foraging HD/YOLO_model_input/04_Birds_background/labels/train.cache\n"
     ]
    },
    {
     "name": "stderr",
     "output_type": "stream",
     "text": [
      "\u001b[34m\u001b[1mval: \u001b[0mScanning /media/andre/T5 EVO/Foraging HD/YOLO_model_input/04_Birds_backgrou\u001b[0m"
     ]
    },
    {
     "name": "stdout",
     "output_type": "stream",
     "text": [
      "\u001b[34m\u001b[1mval: \u001b[0mNew cache created: /media/andre/T5 EVO/Foraging HD/YOLO_model_input/04_Birds_background/labels/val.cache\n"
     ]
    },
    {
     "name": "stderr",
     "output_type": "stream",
     "text": [
      "\n"
     ]
    },
    {
     "name": "stdout",
     "output_type": "stream",
     "text": [
      "Plotting labels to runs/detect/train/labels.jpg... \n",
      "\u001b[34m\u001b[1moptimizer:\u001b[0m 'optimizer=auto' found, ignoring 'lr0=0.01' and 'momentum=0.937' and determining best 'optimizer', 'lr0' and 'momentum' automatically... \n",
      "\u001b[34m\u001b[1moptimizer:\u001b[0m AdamW(lr=0.002, momentum=0.9) with parameter groups 57 weight(decay=0.0), 64 weight(decay=0.0005), 63 bias(decay=0.0)\n",
      "\u001b[34m\u001b[1mTensorBoard: \u001b[0mmodel graph visualization added ✅\n",
      "Image sizes 640 train, 640 val\n",
      "Using 8 dataloader workers\n",
      "Logging results to \u001b[1mruns/detect/train\u001b[0m\n",
      "Starting training for 60 epochs...\n",
      "\n",
      "      Epoch    GPU_mem   box_loss   cls_loss   dfl_loss  Instances       Size\n"
     ]
    },
    {
     "name": "stderr",
     "output_type": "stream",
     "text": [
      "       1/60      2.29G       2.22      2.987      1.374         41        640: 1\n",
      "                 Class     Images  Instances      Box(P          R      mAP50  m"
     ]
    },
    {
     "name": "stdout",
     "output_type": "stream",
     "text": [
      "                   all        447        406      0.496       0.45      0.408       0.16\n"
     ]
    },
    {
     "name": "stderr",
     "output_type": "stream",
     "text": [
      "\n"
     ]
    },
    {
     "name": "stdout",
     "output_type": "stream",
     "text": [
      "\n",
      "      Epoch    GPU_mem   box_loss   cls_loss   dfl_loss  Instances       Size\n"
     ]
    },
    {
     "name": "stderr",
     "output_type": "stream",
     "text": [
      "       2/60      2.26G      2.127      1.993      1.365         27        640: 1\n",
      "                 Class     Images  Instances      Box(P          R      mAP50  m"
     ]
    },
    {
     "name": "stdout",
     "output_type": "stream",
     "text": [
      "                   all        447        406      0.615      0.426       0.45      0.199\n"
     ]
    },
    {
     "name": "stderr",
     "output_type": "stream",
     "text": [
      "\n"
     ]
    },
    {
     "name": "stdout",
     "output_type": "stream",
     "text": [
      "\n",
      "      Epoch    GPU_mem   box_loss   cls_loss   dfl_loss  Instances       Size\n"
     ]
    },
    {
     "name": "stderr",
     "output_type": "stream",
     "text": [
      "       3/60      2.25G      2.101       1.74      1.356         28        640: 1\n",
      "                 Class     Images  Instances      Box(P          R      mAP50  m"
     ]
    },
    {
     "name": "stdout",
     "output_type": "stream",
     "text": [
      "                   all        447        406      0.523      0.522      0.454      0.192\n"
     ]
    },
    {
     "name": "stderr",
     "output_type": "stream",
     "text": [
      "\n"
     ]
    },
    {
     "name": "stdout",
     "output_type": "stream",
     "text": [
      "\n",
      "      Epoch    GPU_mem   box_loss   cls_loss   dfl_loss  Instances       Size\n"
     ]
    },
    {
     "name": "stderr",
     "output_type": "stream",
     "text": [
      "       4/60      2.25G      2.065      1.606      1.347         29        640: 1\n",
      "                 Class     Images  Instances      Box(P          R      mAP50  m"
     ]
    },
    {
     "name": "stdout",
     "output_type": "stream",
     "text": [
      "                   all        447        406       0.58      0.507       0.46      0.205\n"
     ]
    },
    {
     "name": "stderr",
     "output_type": "stream",
     "text": [
      "\n"
     ]
    },
    {
     "name": "stdout",
     "output_type": "stream",
     "text": [
      "\n",
      "      Epoch    GPU_mem   box_loss   cls_loss   dfl_loss  Instances       Size\n"
     ]
    },
    {
     "name": "stderr",
     "output_type": "stream",
     "text": [
      "       5/60      2.25G      2.042      1.512      1.341         30        640: 1\n",
      "                 Class     Images  Instances      Box(P          R      mAP50  m"
     ]
    },
    {
     "name": "stdout",
     "output_type": "stream",
     "text": [
      "                   all        447        406      0.598      0.571      0.526      0.232\n"
     ]
    },
    {
     "name": "stderr",
     "output_type": "stream",
     "text": [
      "\n"
     ]
    },
    {
     "name": "stdout",
     "output_type": "stream",
     "text": [
      "\n",
      "      Epoch    GPU_mem   box_loss   cls_loss   dfl_loss  Instances       Size\n"
     ]
    },
    {
     "name": "stderr",
     "output_type": "stream",
     "text": [
      "       6/60      2.26G      2.003      1.434      1.339         27        640: 1\n",
      "                 Class     Images  Instances      Box(P          R      mAP50  m"
     ]
    },
    {
     "name": "stdout",
     "output_type": "stream",
     "text": [
      "                   all        447        406      0.667      0.613      0.588      0.241\n"
     ]
    },
    {
     "name": "stderr",
     "output_type": "stream",
     "text": [
      "\n"
     ]
    },
    {
     "name": "stdout",
     "output_type": "stream",
     "text": [
      "\n",
      "      Epoch    GPU_mem   box_loss   cls_loss   dfl_loss  Instances       Size\n"
     ]
    },
    {
     "name": "stderr",
     "output_type": "stream",
     "text": [
      "       7/60      2.29G      2.007      1.399      1.335         30        640: 1\n",
      "                 Class     Images  Instances      Box(P          R      mAP50  m"
     ]
    },
    {
     "name": "stdout",
     "output_type": "stream",
     "text": [
      "                   all        447        406       0.62      0.599      0.521      0.224\n"
     ]
    },
    {
     "name": "stderr",
     "output_type": "stream",
     "text": [
      "\n"
     ]
    },
    {
     "name": "stdout",
     "output_type": "stream",
     "text": [
      "\n",
      "      Epoch    GPU_mem   box_loss   cls_loss   dfl_loss  Instances       Size\n"
     ]
    },
    {
     "name": "stderr",
     "output_type": "stream",
     "text": [
      "       8/60      2.25G      1.978      1.355       1.32         29        640: 1\n",
      "                 Class     Images  Instances      Box(P          R      mAP50  m"
     ]
    },
    {
     "name": "stdout",
     "output_type": "stream",
     "text": [
      "                   all        447        406      0.626      0.608      0.538      0.234\n"
     ]
    },
    {
     "name": "stderr",
     "output_type": "stream",
     "text": [
      "\n"
     ]
    },
    {
     "name": "stdout",
     "output_type": "stream",
     "text": [
      "\n",
      "      Epoch    GPU_mem   box_loss   cls_loss   dfl_loss  Instances       Size\n"
     ]
    },
    {
     "name": "stderr",
     "output_type": "stream",
     "text": [
      "       9/60      2.25G      1.945      1.328      1.305         33        640: 1\n",
      "                 Class     Images  Instances      Box(P          R      mAP50  m"
     ]
    },
    {
     "name": "stdout",
     "output_type": "stream",
     "text": [
      "                   all        447        406      0.664       0.66      0.616       0.27\n"
     ]
    },
    {
     "name": "stderr",
     "output_type": "stream",
     "text": [
      "\n"
     ]
    },
    {
     "name": "stdout",
     "output_type": "stream",
     "text": [
      "\n",
      "      Epoch    GPU_mem   box_loss   cls_loss   dfl_loss  Instances       Size\n"
     ]
    },
    {
     "name": "stderr",
     "output_type": "stream",
     "text": [
      "      10/60      2.26G      1.943      1.309      1.309         28        640: 1\n",
      "                 Class     Images  Instances      Box(P          R      mAP50  m"
     ]
    },
    {
     "name": "stdout",
     "output_type": "stream",
     "text": [
      "                   all        447        406      0.633      0.564      0.525      0.234\n"
     ]
    },
    {
     "name": "stderr",
     "output_type": "stream",
     "text": [
      "\n"
     ]
    },
    {
     "name": "stdout",
     "output_type": "stream",
     "text": [
      "\n",
      "      Epoch    GPU_mem   box_loss   cls_loss   dfl_loss  Instances       Size\n"
     ]
    },
    {
     "name": "stderr",
     "output_type": "stream",
     "text": [
      "      11/60      2.27G      1.922       1.28      1.289         22        640: 1\n",
      "                 Class     Images  Instances      Box(P          R      mAP50  m"
     ]
    },
    {
     "name": "stdout",
     "output_type": "stream",
     "text": [
      "                   all        447        406      0.635      0.633      0.573      0.261\n"
     ]
    },
    {
     "name": "stderr",
     "output_type": "stream",
     "text": [
      "\n"
     ]
    },
    {
     "name": "stdout",
     "output_type": "stream",
     "text": [
      "\n",
      "      Epoch    GPU_mem   box_loss   cls_loss   dfl_loss  Instances       Size\n"
     ]
    },
    {
     "name": "stderr",
     "output_type": "stream",
     "text": [
      "      12/60      2.25G      1.916      1.241       1.29         37        640: 1\n",
      "                 Class     Images  Instances      Box(P          R      mAP50  m"
     ]
    },
    {
     "name": "stdout",
     "output_type": "stream",
     "text": [
      "                   all        447        406      0.708      0.594       0.59       0.27\n"
     ]
    },
    {
     "name": "stderr",
     "output_type": "stream",
     "text": [
      "\n"
     ]
    },
    {
     "name": "stdout",
     "output_type": "stream",
     "text": [
      "\n",
      "      Epoch    GPU_mem   box_loss   cls_loss   dfl_loss  Instances       Size\n"
     ]
    },
    {
     "name": "stderr",
     "output_type": "stream",
     "text": [
      "      13/60      2.25G      1.904      1.246      1.285         30        640: 1\n",
      "                 Class     Images  Instances      Box(P          R      mAP50  m"
     ]
    },
    {
     "name": "stdout",
     "output_type": "stream",
     "text": [
      "                   all        447        406      0.646      0.688      0.603      0.271\n"
     ]
    },
    {
     "name": "stderr",
     "output_type": "stream",
     "text": [
      "\n"
     ]
    },
    {
     "name": "stdout",
     "output_type": "stream",
     "text": [
      "\n",
      "      Epoch    GPU_mem   box_loss   cls_loss   dfl_loss  Instances       Size\n"
     ]
    },
    {
     "name": "stderr",
     "output_type": "stream",
     "text": [
      "      14/60      2.26G      1.881      1.194      1.276         24        640: 1\n",
      "                 Class     Images  Instances      Box(P          R      mAP50  m"
     ]
    },
    {
     "name": "stdout",
     "output_type": "stream",
     "text": [
      "                   all        447        406      0.666       0.65      0.588      0.268\n"
     ]
    },
    {
     "name": "stderr",
     "output_type": "stream",
     "text": [
      "\n"
     ]
    },
    {
     "name": "stdout",
     "output_type": "stream",
     "text": [
      "\n",
      "      Epoch    GPU_mem   box_loss   cls_loss   dfl_loss  Instances       Size\n"
     ]
    },
    {
     "name": "stderr",
     "output_type": "stream",
     "text": [
      "      15/60      2.25G      1.879       1.22      1.264         37        640: 1\n",
      "                 Class     Images  Instances      Box(P          R      mAP50  m"
     ]
    },
    {
     "name": "stdout",
     "output_type": "stream",
     "text": [
      "                   all        447        406      0.683       0.68       0.62      0.284\n"
     ]
    },
    {
     "name": "stderr",
     "output_type": "stream",
     "text": [
      "\n"
     ]
    },
    {
     "name": "stdout",
     "output_type": "stream",
     "text": [
      "\n",
      "      Epoch    GPU_mem   box_loss   cls_loss   dfl_loss  Instances       Size\n"
     ]
    },
    {
     "name": "stderr",
     "output_type": "stream",
     "text": [
      "      16/60      2.25G      1.874      1.188       1.27         28        640: 1\n",
      "                 Class     Images  Instances      Box(P          R      mAP50  m"
     ]
    },
    {
     "name": "stdout",
     "output_type": "stream",
     "text": [
      "                   all        447        406      0.669      0.667      0.602      0.274\n"
     ]
    },
    {
     "name": "stderr",
     "output_type": "stream",
     "text": [
      "\n"
     ]
    },
    {
     "name": "stdout",
     "output_type": "stream",
     "text": [
      "\n",
      "      Epoch    GPU_mem   box_loss   cls_loss   dfl_loss  Instances       Size\n"
     ]
    },
    {
     "name": "stderr",
     "output_type": "stream",
     "text": [
      "      17/60      2.25G      1.869      1.181      1.273         30        640: 1\n",
      "                 Class     Images  Instances      Box(P          R      mAP50  m"
     ]
    },
    {
     "name": "stdout",
     "output_type": "stream",
     "text": [
      "                   all        447        406      0.683      0.669      0.619      0.296\n"
     ]
    },
    {
     "name": "stderr",
     "output_type": "stream",
     "text": [
      "\n"
     ]
    },
    {
     "name": "stdout",
     "output_type": "stream",
     "text": [
      "\n",
      "      Epoch    GPU_mem   box_loss   cls_loss   dfl_loss  Instances       Size\n"
     ]
    },
    {
     "name": "stderr",
     "output_type": "stream",
     "text": [
      "      18/60      2.26G       1.86      1.159      1.262         29        640: 1\n",
      "                 Class     Images  Instances      Box(P          R      mAP50  m"
     ]
    },
    {
     "name": "stdout",
     "output_type": "stream",
     "text": [
      "                   all        447        406      0.679       0.66      0.606      0.269\n"
     ]
    },
    {
     "name": "stderr",
     "output_type": "stream",
     "text": [
      "\n"
     ]
    },
    {
     "name": "stdout",
     "output_type": "stream",
     "text": [
      "\n",
      "      Epoch    GPU_mem   box_loss   cls_loss   dfl_loss  Instances       Size\n"
     ]
    },
    {
     "name": "stderr",
     "output_type": "stream",
     "text": [
      "      19/60      2.25G      1.836      1.155      1.256         27        640: 1\n",
      "                 Class     Images  Instances      Box(P          R      mAP50  m"
     ]
    },
    {
     "name": "stdout",
     "output_type": "stream",
     "text": [
      "                   all        447        406      0.644      0.672      0.586      0.268\n"
     ]
    },
    {
     "name": "stderr",
     "output_type": "stream",
     "text": [
      "\n"
     ]
    },
    {
     "name": "stdout",
     "output_type": "stream",
     "text": [
      "\n",
      "      Epoch    GPU_mem   box_loss   cls_loss   dfl_loss  Instances       Size\n"
     ]
    },
    {
     "name": "stderr",
     "output_type": "stream",
     "text": [
      "      20/60      2.25G      1.835      1.125      1.253         21        640: 1\n",
      "                 Class     Images  Instances      Box(P          R      mAP50  m"
     ]
    },
    {
     "name": "stdout",
     "output_type": "stream",
     "text": [
      "                   all        447        406      0.696      0.672      0.629      0.286\n"
     ]
    },
    {
     "name": "stderr",
     "output_type": "stream",
     "text": [
      "\n"
     ]
    },
    {
     "name": "stdout",
     "output_type": "stream",
     "text": [
      "\n",
      "      Epoch    GPU_mem   box_loss   cls_loss   dfl_loss  Instances       Size\n"
     ]
    },
    {
     "name": "stderr",
     "output_type": "stream",
     "text": [
      "      21/60      2.25G      1.834      1.114      1.248         21        640: 1\n",
      "                 Class     Images  Instances      Box(P          R      mAP50  m"
     ]
    },
    {
     "name": "stdout",
     "output_type": "stream",
     "text": [
      "                   all        447        406       0.64      0.665      0.596      0.269\n"
     ]
    },
    {
     "name": "stderr",
     "output_type": "stream",
     "text": [
      "\n"
     ]
    },
    {
     "name": "stdout",
     "output_type": "stream",
     "text": [
      "\n",
      "      Epoch    GPU_mem   box_loss   cls_loss   dfl_loss  Instances       Size\n"
     ]
    },
    {
     "name": "stderr",
     "output_type": "stream",
     "text": [
      "      22/60      2.28G      1.831      1.106      1.249         31        640: 1\n",
      "                 Class     Images  Instances      Box(P          R      mAP50  m"
     ]
    },
    {
     "name": "stdout",
     "output_type": "stream",
     "text": [
      "                   all        447        406       0.67       0.69      0.613      0.278\n"
     ]
    },
    {
     "name": "stderr",
     "output_type": "stream",
     "text": [
      "\n"
     ]
    },
    {
     "name": "stdout",
     "output_type": "stream",
     "text": [
      "\n",
      "      Epoch    GPU_mem   box_loss   cls_loss   dfl_loss  Instances       Size\n"
     ]
    },
    {
     "name": "stderr",
     "output_type": "stream",
     "text": [
      "      23/60      2.25G      1.837      1.113      1.251         28        640: 1\n",
      "                 Class     Images  Instances      Box(P          R      mAP50  m"
     ]
    },
    {
     "name": "stdout",
     "output_type": "stream",
     "text": [
      "                   all        447        406      0.664      0.695      0.632      0.296\n"
     ]
    },
    {
     "name": "stderr",
     "output_type": "stream",
     "text": [
      "\n"
     ]
    },
    {
     "name": "stdout",
     "output_type": "stream",
     "text": [
      "\n",
      "      Epoch    GPU_mem   box_loss   cls_loss   dfl_loss  Instances       Size\n"
     ]
    },
    {
     "name": "stderr",
     "output_type": "stream",
     "text": [
      "      24/60      2.25G      1.808      1.092      1.233         34        640: 1\n",
      "                 Class     Images  Instances      Box(P          R      mAP50  m"
     ]
    },
    {
     "name": "stdout",
     "output_type": "stream",
     "text": [
      "                   all        447        406      0.674      0.697      0.638      0.303\n"
     ]
    },
    {
     "name": "stderr",
     "output_type": "stream",
     "text": [
      "\n"
     ]
    },
    {
     "name": "stdout",
     "output_type": "stream",
     "text": [
      "\n",
      "      Epoch    GPU_mem   box_loss   cls_loss   dfl_loss  Instances       Size\n"
     ]
    },
    {
     "name": "stderr",
     "output_type": "stream",
     "text": [
      "      25/60      2.25G      1.793      1.073      1.221         24        640: 1\n",
      "                 Class     Images  Instances      Box(P          R      mAP50  m"
     ]
    },
    {
     "name": "stdout",
     "output_type": "stream",
     "text": [
      "                   all        447        406      0.671      0.675      0.604      0.277\n"
     ]
    },
    {
     "name": "stderr",
     "output_type": "stream",
     "text": [
      "\n"
     ]
    },
    {
     "name": "stdout",
     "output_type": "stream",
     "text": [
      "\n",
      "      Epoch    GPU_mem   box_loss   cls_loss   dfl_loss  Instances       Size\n"
     ]
    },
    {
     "name": "stderr",
     "output_type": "stream",
     "text": [
      "      26/60      2.26G      1.803      1.075      1.235         30        640: 1\n",
      "                 Class     Images  Instances      Box(P          R      mAP50  m"
     ]
    },
    {
     "name": "stdout",
     "output_type": "stream",
     "text": [
      "                   all        447        406      0.706      0.703      0.664      0.294\n"
     ]
    },
    {
     "name": "stderr",
     "output_type": "stream",
     "text": [
      "\n"
     ]
    },
    {
     "name": "stdout",
     "output_type": "stream",
     "text": [
      "\n",
      "      Epoch    GPU_mem   box_loss   cls_loss   dfl_loss  Instances       Size\n"
     ]
    },
    {
     "name": "stderr",
     "output_type": "stream",
     "text": [
      "      27/60      2.25G      1.813      1.068      1.244         29        640: 1\n",
      "                 Class     Images  Instances      Box(P          R      mAP50  m"
     ]
    },
    {
     "name": "stdout",
     "output_type": "stream",
     "text": [
      "                   all        447        406      0.633      0.704      0.616      0.283\n"
     ]
    },
    {
     "name": "stderr",
     "output_type": "stream",
     "text": [
      "\n"
     ]
    },
    {
     "name": "stdout",
     "output_type": "stream",
     "text": [
      "\n",
      "      Epoch    GPU_mem   box_loss   cls_loss   dfl_loss  Instances       Size\n"
     ]
    },
    {
     "name": "stderr",
     "output_type": "stream",
     "text": [
      "      28/60      2.25G      1.777      1.046      1.211         28        640: 1\n",
      "                 Class     Images  Instances      Box(P          R      mAP50  m"
     ]
    },
    {
     "name": "stdout",
     "output_type": "stream",
     "text": [
      "                   all        447        406      0.688      0.697      0.638        0.3\n"
     ]
    },
    {
     "name": "stderr",
     "output_type": "stream",
     "text": [
      "\n"
     ]
    },
    {
     "name": "stdout",
     "output_type": "stream",
     "text": [
      "\n",
      "      Epoch    GPU_mem   box_loss   cls_loss   dfl_loss  Instances       Size\n"
     ]
    },
    {
     "name": "stderr",
     "output_type": "stream",
     "text": [
      "      29/60      2.27G      1.769      1.023      1.219         23        640: 1\n",
      "                 Class     Images  Instances      Box(P          R      mAP50  m"
     ]
    },
    {
     "name": "stdout",
     "output_type": "stream",
     "text": [
      "                   all        447        406      0.652       0.64      0.588      0.256\n"
     ]
    },
    {
     "name": "stderr",
     "output_type": "stream",
     "text": [
      "\n"
     ]
    },
    {
     "name": "stdout",
     "output_type": "stream",
     "text": [
      "\n",
      "      Epoch    GPU_mem   box_loss   cls_loss   dfl_loss  Instances       Size\n"
     ]
    },
    {
     "name": "stderr",
     "output_type": "stream",
     "text": [
      "      30/60      2.26G      1.773      1.034      1.216         29        640: 1\n",
      "                 Class     Images  Instances      Box(P          R      mAP50  m"
     ]
    },
    {
     "name": "stdout",
     "output_type": "stream",
     "text": [
      "                   all        447        406      0.672      0.697      0.638      0.298\n"
     ]
    },
    {
     "name": "stderr",
     "output_type": "stream",
     "text": [
      "\n"
     ]
    },
    {
     "name": "stdout",
     "output_type": "stream",
     "text": [
      "\n",
      "      Epoch    GPU_mem   box_loss   cls_loss   dfl_loss  Instances       Size\n"
     ]
    },
    {
     "name": "stderr",
     "output_type": "stream",
     "text": [
      "      31/60      2.25G      1.773      1.029      1.223         26        640: 1\n",
      "                 Class     Images  Instances      Box(P          R      mAP50  m"
     ]
    },
    {
     "name": "stdout",
     "output_type": "stream",
     "text": [
      "                   all        447        406      0.685       0.73      0.654        0.3\n"
     ]
    },
    {
     "name": "stderr",
     "output_type": "stream",
     "text": [
      "\n"
     ]
    },
    {
     "name": "stdout",
     "output_type": "stream",
     "text": [
      "\n",
      "      Epoch    GPU_mem   box_loss   cls_loss   dfl_loss  Instances       Size\n"
     ]
    },
    {
     "name": "stderr",
     "output_type": "stream",
     "text": [
      "      32/60      2.25G      1.755      1.004      1.213         45        640: 1\n",
      "                 Class     Images  Instances      Box(P          R      mAP50  m"
     ]
    },
    {
     "name": "stdout",
     "output_type": "stream",
     "text": [
      "                   all        447        406      0.665      0.719      0.614       0.28\n"
     ]
    },
    {
     "name": "stderr",
     "output_type": "stream",
     "text": [
      "\n"
     ]
    },
    {
     "name": "stdout",
     "output_type": "stream",
     "text": [
      "\n",
      "      Epoch    GPU_mem   box_loss   cls_loss   dfl_loss  Instances       Size\n"
     ]
    },
    {
     "name": "stderr",
     "output_type": "stream",
     "text": [
      "      33/60      2.25G      1.749     0.9792      1.212         42        640: 1\n",
      "                 Class     Images  Instances      Box(P          R      mAP50  m"
     ]
    },
    {
     "name": "stdout",
     "output_type": "stream",
     "text": [
      "                   all        447        406      0.679      0.712       0.63        0.3\n"
     ]
    },
    {
     "name": "stderr",
     "output_type": "stream",
     "text": [
      "\n"
     ]
    },
    {
     "name": "stdout",
     "output_type": "stream",
     "text": [
      "\n",
      "      Epoch    GPU_mem   box_loss   cls_loss   dfl_loss  Instances       Size\n"
     ]
    },
    {
     "name": "stderr",
     "output_type": "stream",
     "text": [
      "      34/60      2.26G      1.744     0.9838      1.204         35        640: 1\n",
      "                 Class     Images  Instances      Box(P          R      mAP50  m"
     ]
    },
    {
     "name": "stdout",
     "output_type": "stream",
     "text": [
      "                   all        447        406      0.681       0.69      0.621       0.29\n"
     ]
    },
    {
     "name": "stderr",
     "output_type": "stream",
     "text": [
      "\n"
     ]
    },
    {
     "name": "stdout",
     "output_type": "stream",
     "text": [
      "\n",
      "      Epoch    GPU_mem   box_loss   cls_loss   dfl_loss  Instances       Size\n"
     ]
    },
    {
     "name": "stderr",
     "output_type": "stream",
     "text": [
      "      35/60      2.25G      1.738     0.9693      1.199         26        640: 1\n",
      "                 Class     Images  Instances      Box(P          R      mAP50  m"
     ]
    },
    {
     "name": "stdout",
     "output_type": "stream",
     "text": [
      "                   all        447        406      0.684      0.694      0.641      0.305\n"
     ]
    },
    {
     "name": "stderr",
     "output_type": "stream",
     "text": [
      "\n"
     ]
    },
    {
     "name": "stdout",
     "output_type": "stream",
     "text": [
      "\n",
      "      Epoch    GPU_mem   box_loss   cls_loss   dfl_loss  Instances       Size\n"
     ]
    },
    {
     "name": "stderr",
     "output_type": "stream",
     "text": [
      "      36/60      2.25G      1.732     0.9611      1.202         37        640: 1\n",
      "                 Class     Images  Instances      Box(P          R      mAP50  m"
     ]
    },
    {
     "name": "stdout",
     "output_type": "stream",
     "text": [
      "                   all        447        406      0.699      0.724      0.656      0.304\n"
     ]
    },
    {
     "name": "stderr",
     "output_type": "stream",
     "text": [
      "\n"
     ]
    },
    {
     "name": "stdout",
     "output_type": "stream",
     "text": [
      "\n",
      "      Epoch    GPU_mem   box_loss   cls_loss   dfl_loss  Instances       Size\n"
     ]
    },
    {
     "name": "stderr",
     "output_type": "stream",
     "text": [
      "      37/60      2.25G      1.726     0.9632      1.185         32        640: 1\n",
      "                 Class     Images  Instances      Box(P          R      mAP50  m"
     ]
    },
    {
     "name": "stdout",
     "output_type": "stream",
     "text": [
      "                   all        447        406      0.685      0.712      0.647      0.301\n"
     ]
    },
    {
     "name": "stderr",
     "output_type": "stream",
     "text": [
      "\n"
     ]
    },
    {
     "name": "stdout",
     "output_type": "stream",
     "text": [
      "\n",
      "      Epoch    GPU_mem   box_loss   cls_loss   dfl_loss  Instances       Size\n"
     ]
    },
    {
     "name": "stderr",
     "output_type": "stream",
     "text": [
      "      38/60      2.26G      1.721     0.9493      1.191         30        640: 1\n",
      "                 Class     Images  Instances      Box(P          R      mAP50  m"
     ]
    },
    {
     "name": "stdout",
     "output_type": "stream",
     "text": [
      "                   all        447        406      0.684      0.702      0.634      0.295\n"
     ]
    },
    {
     "name": "stderr",
     "output_type": "stream",
     "text": [
      "\n"
     ]
    },
    {
     "name": "stdout",
     "output_type": "stream",
     "text": [
      "\n",
      "      Epoch    GPU_mem   box_loss   cls_loss   dfl_loss  Instances       Size\n"
     ]
    },
    {
     "name": "stderr",
     "output_type": "stream",
     "text": [
      "      39/60      2.26G      1.719     0.9458      1.194         38        640: 1\n",
      "                 Class     Images  Instances      Box(P          R      mAP50  m"
     ]
    },
    {
     "name": "stdout",
     "output_type": "stream",
     "text": [
      "                   all        447        406      0.685      0.727      0.657      0.309\n"
     ]
    },
    {
     "name": "stderr",
     "output_type": "stream",
     "text": [
      "\n"
     ]
    },
    {
     "name": "stdout",
     "output_type": "stream",
     "text": [
      "\n",
      "      Epoch    GPU_mem   box_loss   cls_loss   dfl_loss  Instances       Size\n"
     ]
    },
    {
     "name": "stderr",
     "output_type": "stream",
     "text": [
      "      40/60      2.25G      1.693     0.9225       1.19         31        640: 1\n",
      "                 Class     Images  Instances      Box(P          R      mAP50  m"
     ]
    },
    {
     "name": "stdout",
     "output_type": "stream",
     "text": [
      "                   all        447        406      0.698      0.695      0.636      0.302\n"
     ]
    },
    {
     "name": "stderr",
     "output_type": "stream",
     "text": [
      "\n"
     ]
    },
    {
     "name": "stdout",
     "output_type": "stream",
     "text": [
      "\n",
      "      Epoch    GPU_mem   box_loss   cls_loss   dfl_loss  Instances       Size\n"
     ]
    },
    {
     "name": "stderr",
     "output_type": "stream",
     "text": [
      "      41/60      2.25G      1.694     0.9163      1.186         25        640: 1\n",
      "                 Class     Images  Instances      Box(P          R      mAP50  m"
     ]
    },
    {
     "name": "stdout",
     "output_type": "stream",
     "text": [
      "                   all        447        406      0.685      0.748      0.656      0.317\n"
     ]
    },
    {
     "name": "stderr",
     "output_type": "stream",
     "text": [
      "\n"
     ]
    },
    {
     "name": "stdout",
     "output_type": "stream",
     "text": [
      "\n",
      "      Epoch    GPU_mem   box_loss   cls_loss   dfl_loss  Instances       Size\n"
     ]
    },
    {
     "name": "stderr",
     "output_type": "stream",
     "text": [
      "      42/60      2.26G      1.659     0.9025      1.173         24        640: 1\n",
      "                 Class     Images  Instances      Box(P          R      mAP50  m"
     ]
    },
    {
     "name": "stdout",
     "output_type": "stream",
     "text": [
      "                   all        447        406      0.717        0.7      0.646      0.309\n"
     ]
    },
    {
     "name": "stderr",
     "output_type": "stream",
     "text": [
      "\n"
     ]
    },
    {
     "name": "stdout",
     "output_type": "stream",
     "text": [
      "\n",
      "      Epoch    GPU_mem   box_loss   cls_loss   dfl_loss  Instances       Size\n"
     ]
    },
    {
     "name": "stderr",
     "output_type": "stream",
     "text": [
      "      43/60      2.25G      1.682     0.9043      1.177         25        640: 1\n",
      "                 Class     Images  Instances      Box(P          R      mAP50  m"
     ]
    },
    {
     "name": "stdout",
     "output_type": "stream",
     "text": [
      "                   all        447        406      0.717      0.744      0.666      0.311\n"
     ]
    },
    {
     "name": "stderr",
     "output_type": "stream",
     "text": [
      "\n"
     ]
    },
    {
     "name": "stdout",
     "output_type": "stream",
     "text": [
      "\n",
      "      Epoch    GPU_mem   box_loss   cls_loss   dfl_loss  Instances       Size\n"
     ]
    },
    {
     "name": "stderr",
     "output_type": "stream",
     "text": [
      "      44/60      2.25G      1.661      0.893       1.17         33        640: 1\n",
      "                 Class     Images  Instances      Box(P          R      mAP50  m"
     ]
    },
    {
     "name": "stdout",
     "output_type": "stream",
     "text": [
      "                   all        447        406      0.677      0.742      0.647      0.302\n"
     ]
    },
    {
     "name": "stderr",
     "output_type": "stream",
     "text": [
      "\n"
     ]
    },
    {
     "name": "stdout",
     "output_type": "stream",
     "text": [
      "\n",
      "      Epoch    GPU_mem   box_loss   cls_loss   dfl_loss  Instances       Size\n"
     ]
    },
    {
     "name": "stderr",
     "output_type": "stream",
     "text": [
      "      45/60      2.25G      1.663     0.8946      1.169         24        640: 1\n",
      "                 Class     Images  Instances      Box(P          R      mAP50  m"
     ]
    },
    {
     "name": "stdout",
     "output_type": "stream",
     "text": [
      "                   all        447        406      0.692      0.746      0.661      0.315\n"
     ]
    },
    {
     "name": "stderr",
     "output_type": "stream",
     "text": [
      "\n"
     ]
    },
    {
     "name": "stdout",
     "output_type": "stream",
     "text": [
      "\n",
      "      Epoch    GPU_mem   box_loss   cls_loss   dfl_loss  Instances       Size\n"
     ]
    },
    {
     "name": "stderr",
     "output_type": "stream",
     "text": [
      "      46/60      2.26G      1.651     0.8881      1.168         32        640: 1\n",
      "                 Class     Images  Instances      Box(P          R      mAP50  m"
     ]
    },
    {
     "name": "stdout",
     "output_type": "stream",
     "text": [
      "                   all        447        406       0.69      0.751      0.657      0.312\n"
     ]
    },
    {
     "name": "stderr",
     "output_type": "stream",
     "text": [
      "\n"
     ]
    },
    {
     "name": "stdout",
     "output_type": "stream",
     "text": [
      "\n",
      "      Epoch    GPU_mem   box_loss   cls_loss   dfl_loss  Instances       Size\n"
     ]
    },
    {
     "name": "stderr",
     "output_type": "stream",
     "text": [
      "      47/60      2.25G      1.638     0.8706      1.171         29        640: 1\n",
      "                 Class     Images  Instances      Box(P          R      mAP50  m"
     ]
    },
    {
     "name": "stdout",
     "output_type": "stream",
     "text": [
      "                   all        447        406      0.699      0.717       0.66      0.313\n"
     ]
    },
    {
     "name": "stderr",
     "output_type": "stream",
     "text": [
      "\n"
     ]
    },
    {
     "name": "stdout",
     "output_type": "stream",
     "text": [
      "\n",
      "      Epoch    GPU_mem   box_loss   cls_loss   dfl_loss  Instances       Size\n"
     ]
    },
    {
     "name": "stderr",
     "output_type": "stream",
     "text": [
      "      48/60      2.25G      1.652     0.8766      1.173         31        640: 1\n",
      "                 Class     Images  Instances      Box(P          R      mAP50  m"
     ]
    },
    {
     "name": "stdout",
     "output_type": "stream",
     "text": [
      "                   all        447        406       0.71      0.712      0.659      0.312\n"
     ]
    },
    {
     "name": "stderr",
     "output_type": "stream",
     "text": [
      "\n"
     ]
    },
    {
     "name": "stdout",
     "output_type": "stream",
     "text": [
      "\n",
      "      Epoch    GPU_mem   box_loss   cls_loss   dfl_loss  Instances       Size\n"
     ]
    },
    {
     "name": "stderr",
     "output_type": "stream",
     "text": [
      "      49/60      2.25G      1.626     0.8496      1.154         34        640: 1\n",
      "                 Class     Images  Instances      Box(P          R      mAP50  m"
     ]
    },
    {
     "name": "stdout",
     "output_type": "stream",
     "text": [
      "                   all        447        406      0.706      0.714      0.665      0.316\n"
     ]
    },
    {
     "name": "stderr",
     "output_type": "stream",
     "text": [
      "\n"
     ]
    },
    {
     "name": "stdout",
     "output_type": "stream",
     "text": [
      "\n",
      "      Epoch    GPU_mem   box_loss   cls_loss   dfl_loss  Instances       Size\n"
     ]
    },
    {
     "name": "stderr",
     "output_type": "stream",
     "text": [
      "      50/60      2.26G      1.631     0.8588      1.153         31        640: 1\n",
      "                 Class     Images  Instances      Box(P          R      mAP50  m"
     ]
    },
    {
     "name": "stdout",
     "output_type": "stream",
     "text": [
      "                   all        447        406      0.669      0.748      0.669       0.32\n"
     ]
    },
    {
     "name": "stderr",
     "output_type": "stream",
     "text": [
      "\n"
     ]
    },
    {
     "name": "stdout",
     "output_type": "stream",
     "text": [
      "Closing dataloader mosaic\n",
      "\n",
      "      Epoch    GPU_mem   box_loss   cls_loss   dfl_loss  Instances       Size\n"
     ]
    },
    {
     "name": "stderr",
     "output_type": "stream",
     "text": [
      "      51/60      2.25G      1.604     0.8239      1.202         20        640: 1\n",
      "                 Class     Images  Instances      Box(P          R      mAP50  m"
     ]
    },
    {
     "name": "stdout",
     "output_type": "stream",
     "text": [
      "                   all        447        406      0.703      0.736      0.647       0.31\n"
     ]
    },
    {
     "name": "stderr",
     "output_type": "stream",
     "text": [
      "\n"
     ]
    },
    {
     "name": "stdout",
     "output_type": "stream",
     "text": [
      "\n",
      "      Epoch    GPU_mem   box_loss   cls_loss   dfl_loss  Instances       Size\n"
     ]
    },
    {
     "name": "stderr",
     "output_type": "stream",
     "text": [
      "      52/60      2.25G       1.58     0.7719      1.191         14        640: 1\n",
      "                 Class     Images  Instances      Box(P          R      mAP50  m"
     ]
    },
    {
     "name": "stdout",
     "output_type": "stream",
     "text": [
      "                   all        447        406      0.697      0.739      0.656      0.313\n"
     ]
    },
    {
     "name": "stderr",
     "output_type": "stream",
     "text": [
      "\n"
     ]
    },
    {
     "name": "stdout",
     "output_type": "stream",
     "text": [
      "\n",
      "      Epoch    GPU_mem   box_loss   cls_loss   dfl_loss  Instances       Size\n"
     ]
    },
    {
     "name": "stderr",
     "output_type": "stream",
     "text": [
      "      53/60      2.25G      1.568      0.758      1.194         17        640: 1\n",
      "                 Class     Images  Instances      Box(P          R      mAP50  m"
     ]
    },
    {
     "name": "stdout",
     "output_type": "stream",
     "text": [
      "                   all        447        406      0.693      0.733      0.659      0.316\n"
     ]
    },
    {
     "name": "stderr",
     "output_type": "stream",
     "text": [
      "\n"
     ]
    },
    {
     "name": "stdout",
     "output_type": "stream",
     "text": [
      "\n",
      "      Epoch    GPU_mem   box_loss   cls_loss   dfl_loss  Instances       Size\n"
     ]
    },
    {
     "name": "stderr",
     "output_type": "stream",
     "text": [
      "      54/60      2.26G      1.567     0.7449      1.191         17        640: 1\n",
      "                 Class     Images  Instances      Box(P          R      mAP50  m"
     ]
    },
    {
     "name": "stdout",
     "output_type": "stream",
     "text": [
      "                   all        447        406      0.698      0.746      0.654      0.312\n"
     ]
    },
    {
     "name": "stderr",
     "output_type": "stream",
     "text": [
      "\n"
     ]
    },
    {
     "name": "stdout",
     "output_type": "stream",
     "text": [
      "\n",
      "      Epoch    GPU_mem   box_loss   cls_loss   dfl_loss  Instances       Size\n"
     ]
    },
    {
     "name": "stderr",
     "output_type": "stream",
     "text": [
      "      55/60      2.25G      1.546     0.7482      1.181         17        640: 1\n",
      "                 Class     Images  Instances      Box(P          R      mAP50  m"
     ]
    },
    {
     "name": "stdout",
     "output_type": "stream",
     "text": [
      "                   all        447        406      0.701      0.734      0.663      0.318\n"
     ]
    },
    {
     "name": "stderr",
     "output_type": "stream",
     "text": [
      "\n"
     ]
    },
    {
     "name": "stdout",
     "output_type": "stream",
     "text": [
      "\n",
      "      Epoch    GPU_mem   box_loss   cls_loss   dfl_loss  Instances       Size\n"
     ]
    },
    {
     "name": "stderr",
     "output_type": "stream",
     "text": [
      "      56/60      2.25G      1.536     0.7252      1.179         16        640: 1\n",
      "                 Class     Images  Instances      Box(P          R      mAP50  m"
     ]
    },
    {
     "name": "stdout",
     "output_type": "stream",
     "text": [
      "                   all        447        406       0.71      0.722      0.666      0.319\n"
     ]
    },
    {
     "name": "stderr",
     "output_type": "stream",
     "text": [
      "\n"
     ]
    },
    {
     "name": "stdout",
     "output_type": "stream",
     "text": [
      "\n",
      "      Epoch    GPU_mem   box_loss   cls_loss   dfl_loss  Instances       Size\n"
     ]
    },
    {
     "name": "stderr",
     "output_type": "stream",
     "text": [
      "      57/60      2.25G      1.537     0.7327      1.167         15        640: 1\n",
      "                 Class     Images  Instances      Box(P          R      mAP50  m"
     ]
    },
    {
     "name": "stdout",
     "output_type": "stream",
     "text": [
      "                   all        447        406      0.688      0.745      0.666      0.318\n"
     ]
    },
    {
     "name": "stderr",
     "output_type": "stream",
     "text": [
      "\n"
     ]
    },
    {
     "name": "stdout",
     "output_type": "stream",
     "text": [
      "\n",
      "      Epoch    GPU_mem   box_loss   cls_loss   dfl_loss  Instances       Size\n"
     ]
    },
    {
     "name": "stderr",
     "output_type": "stream",
     "text": [
      "      58/60      2.26G       1.52     0.7116      1.172         15        640: 1\n",
      "                 Class     Images  Instances      Box(P          R      mAP50  m"
     ]
    },
    {
     "name": "stdout",
     "output_type": "stream",
     "text": [
      "                   all        447        406      0.714      0.749      0.679      0.318\n"
     ]
    },
    {
     "name": "stderr",
     "output_type": "stream",
     "text": [
      "\n"
     ]
    },
    {
     "name": "stdout",
     "output_type": "stream",
     "text": [
      "\n",
      "      Epoch    GPU_mem   box_loss   cls_loss   dfl_loss  Instances       Size\n"
     ]
    },
    {
     "name": "stderr",
     "output_type": "stream",
     "text": [
      "      59/60      2.25G      1.522     0.7103      1.161         15        640: 1\n",
      "                 Class     Images  Instances      Box(P          R      mAP50  m"
     ]
    },
    {
     "name": "stdout",
     "output_type": "stream",
     "text": [
      "                   all        447        406      0.721      0.738      0.675      0.318\n"
     ]
    },
    {
     "name": "stderr",
     "output_type": "stream",
     "text": [
      "\n"
     ]
    },
    {
     "name": "stdout",
     "output_type": "stream",
     "text": [
      "\n",
      "      Epoch    GPU_mem   box_loss   cls_loss   dfl_loss  Instances       Size\n"
     ]
    },
    {
     "name": "stderr",
     "output_type": "stream",
     "text": [
      "      60/60      2.25G      1.504     0.7035      1.159         20        640: 1\n",
      "                 Class     Images  Instances      Box(P          R      mAP50  m"
     ]
    },
    {
     "name": "stdout",
     "output_type": "stream",
     "text": [
      "                   all        447        406      0.702      0.736      0.666      0.319\n"
     ]
    },
    {
     "name": "stderr",
     "output_type": "stream",
     "text": [
      "\n"
     ]
    },
    {
     "name": "stdout",
     "output_type": "stream",
     "text": [
      "\n",
      "60 epochs completed in 0.345 hours.\n",
      "Optimizer stripped from runs/detect/train/weights/last.pt, 6.2MB\n",
      "Optimizer stripped from runs/detect/train/weights/best.pt, 6.2MB\n",
      "\n",
      "Validating runs/detect/train/weights/best.pt...\n",
      "Ultralytics 8.3.37 🚀 Python-3.10.14 torch-2.1.2+cu121 CUDA:0 (NVIDIA GeForce RTX 2070, 7965MiB)\n",
      "Model summary (fused): 168 layers, 3,005,843 parameters, 0 gradients, 8.1 GFLOPs\n"
     ]
    },
    {
     "name": "stderr",
     "output_type": "stream",
     "text": [
      "                 Class     Images  Instances      Box(P          R      mAP50  m\n"
     ]
    },
    {
     "name": "stdout",
     "output_type": "stream",
     "text": [
      "                   all        447        406      0.669      0.746      0.668       0.32\n",
      "Speed: 0.9ms preprocess, 0.8ms inference, 0.0ms loss, 0.3ms postprocess per image\n",
      "Results saved to \u001b[1mruns/detect/train\u001b[0m\n"
     ]
    },
    {
     "data": {
      "text/plain": [
       "ultralytics.utils.metrics.DetMetrics object with attributes:\n",
       "\n",
       "ap_class_index: array([0])\n",
       "box: ultralytics.utils.metrics.Metric object\n",
       "confusion_matrix: <ultralytics.utils.metrics.ConfusionMatrix object at 0x7ff88c0c79d0>\n",
       "curves: ['Precision-Recall(B)', 'F1-Confidence(B)', 'Precision-Confidence(B)', 'Recall-Confidence(B)']\n",
       "curves_results: [[array([          0,    0.001001,    0.002002,    0.003003,    0.004004,    0.005005,    0.006006,    0.007007,    0.008008,    0.009009,     0.01001,    0.011011,    0.012012,    0.013013,    0.014014,    0.015015,    0.016016,    0.017017,    0.018018,    0.019019,     0.02002,    0.021021,    0.022022,    0.023023,\n",
       "          0.024024,    0.025025,    0.026026,    0.027027,    0.028028,    0.029029,     0.03003,    0.031031,    0.032032,    0.033033,    0.034034,    0.035035,    0.036036,    0.037037,    0.038038,    0.039039,     0.04004,    0.041041,    0.042042,    0.043043,    0.044044,    0.045045,    0.046046,    0.047047,\n",
       "          0.048048,    0.049049,     0.05005,    0.051051,    0.052052,    0.053053,    0.054054,    0.055055,    0.056056,    0.057057,    0.058058,    0.059059,     0.06006,    0.061061,    0.062062,    0.063063,    0.064064,    0.065065,    0.066066,    0.067067,    0.068068,    0.069069,     0.07007,    0.071071,\n",
       "          0.072072,    0.073073,    0.074074,    0.075075,    0.076076,    0.077077,    0.078078,    0.079079,     0.08008,    0.081081,    0.082082,    0.083083,    0.084084,    0.085085,    0.086086,    0.087087,    0.088088,    0.089089,     0.09009,    0.091091,    0.092092,    0.093093,    0.094094,    0.095095,\n",
       "          0.096096,    0.097097,    0.098098,    0.099099,      0.1001,      0.1011,      0.1021,      0.1031,      0.1041,     0.10511,     0.10611,     0.10711,     0.10811,     0.10911,     0.11011,     0.11111,     0.11211,     0.11311,     0.11411,     0.11512,     0.11612,     0.11712,     0.11812,     0.11912,\n",
       "           0.12012,     0.12112,     0.12212,     0.12312,     0.12412,     0.12513,     0.12613,     0.12713,     0.12813,     0.12913,     0.13013,     0.13113,     0.13213,     0.13313,     0.13413,     0.13514,     0.13614,     0.13714,     0.13814,     0.13914,     0.14014,     0.14114,     0.14214,     0.14314,\n",
       "           0.14414,     0.14515,     0.14615,     0.14715,     0.14815,     0.14915,     0.15015,     0.15115,     0.15215,     0.15315,     0.15415,     0.15516,     0.15616,     0.15716,     0.15816,     0.15916,     0.16016,     0.16116,     0.16216,     0.16316,     0.16416,     0.16517,     0.16617,     0.16717,\n",
       "           0.16817,     0.16917,     0.17017,     0.17117,     0.17217,     0.17317,     0.17417,     0.17518,     0.17618,     0.17718,     0.17818,     0.17918,     0.18018,     0.18118,     0.18218,     0.18318,     0.18418,     0.18519,     0.18619,     0.18719,     0.18819,     0.18919,     0.19019,     0.19119,\n",
       "           0.19219,     0.19319,     0.19419,      0.1952,      0.1962,      0.1972,      0.1982,      0.1992,      0.2002,      0.2012,      0.2022,      0.2032,      0.2042,     0.20521,     0.20621,     0.20721,     0.20821,     0.20921,     0.21021,     0.21121,     0.21221,     0.21321,     0.21421,     0.21522,\n",
       "           0.21622,     0.21722,     0.21822,     0.21922,     0.22022,     0.22122,     0.22222,     0.22322,     0.22422,     0.22523,     0.22623,     0.22723,     0.22823,     0.22923,     0.23023,     0.23123,     0.23223,     0.23323,     0.23423,     0.23524,     0.23624,     0.23724,     0.23824,     0.23924,\n",
       "           0.24024,     0.24124,     0.24224,     0.24324,     0.24424,     0.24525,     0.24625,     0.24725,     0.24825,     0.24925,     0.25025,     0.25125,     0.25225,     0.25325,     0.25425,     0.25526,     0.25626,     0.25726,     0.25826,     0.25926,     0.26026,     0.26126,     0.26226,     0.26326,\n",
       "           0.26426,     0.26527,     0.26627,     0.26727,     0.26827,     0.26927,     0.27027,     0.27127,     0.27227,     0.27327,     0.27427,     0.27528,     0.27628,     0.27728,     0.27828,     0.27928,     0.28028,     0.28128,     0.28228,     0.28328,     0.28428,     0.28529,     0.28629,     0.28729,\n",
       "           0.28829,     0.28929,     0.29029,     0.29129,     0.29229,     0.29329,     0.29429,      0.2953,      0.2963,      0.2973,      0.2983,      0.2993,      0.3003,      0.3013,      0.3023,      0.3033,      0.3043,     0.30531,     0.30631,     0.30731,     0.30831,     0.30931,     0.31031,     0.31131,\n",
       "           0.31231,     0.31331,     0.31431,     0.31532,     0.31632,     0.31732,     0.31832,     0.31932,     0.32032,     0.32132,     0.32232,     0.32332,     0.32432,     0.32533,     0.32633,     0.32733,     0.32833,     0.32933,     0.33033,     0.33133,     0.33233,     0.33333,     0.33433,     0.33534,\n",
       "           0.33634,     0.33734,     0.33834,     0.33934,     0.34034,     0.34134,     0.34234,     0.34334,     0.34434,     0.34535,     0.34635,     0.34735,     0.34835,     0.34935,     0.35035,     0.35135,     0.35235,     0.35335,     0.35435,     0.35536,     0.35636,     0.35736,     0.35836,     0.35936,\n",
       "           0.36036,     0.36136,     0.36236,     0.36336,     0.36436,     0.36537,     0.36637,     0.36737,     0.36837,     0.36937,     0.37037,     0.37137,     0.37237,     0.37337,     0.37437,     0.37538,     0.37638,     0.37738,     0.37838,     0.37938,     0.38038,     0.38138,     0.38238,     0.38338,\n",
       "           0.38438,     0.38539,     0.38639,     0.38739,     0.38839,     0.38939,     0.39039,     0.39139,     0.39239,     0.39339,     0.39439,      0.3954,      0.3964,      0.3974,      0.3984,      0.3994,      0.4004,      0.4014,      0.4024,      0.4034,      0.4044,     0.40541,     0.40641,     0.40741,\n",
       "           0.40841,     0.40941,     0.41041,     0.41141,     0.41241,     0.41341,     0.41441,     0.41542,     0.41642,     0.41742,     0.41842,     0.41942,     0.42042,     0.42142,     0.42242,     0.42342,     0.42442,     0.42543,     0.42643,     0.42743,     0.42843,     0.42943,     0.43043,     0.43143,\n",
       "           0.43243,     0.43343,     0.43443,     0.43544,     0.43644,     0.43744,     0.43844,     0.43944,     0.44044,     0.44144,     0.44244,     0.44344,     0.44444,     0.44545,     0.44645,     0.44745,     0.44845,     0.44945,     0.45045,     0.45145,     0.45245,     0.45345,     0.45445,     0.45546,\n",
       "           0.45646,     0.45746,     0.45846,     0.45946,     0.46046,     0.46146,     0.46246,     0.46346,     0.46446,     0.46547,     0.46647,     0.46747,     0.46847,     0.46947,     0.47047,     0.47147,     0.47247,     0.47347,     0.47447,     0.47548,     0.47648,     0.47748,     0.47848,     0.47948,\n",
       "           0.48048,     0.48148,     0.48248,     0.48348,     0.48448,     0.48549,     0.48649,     0.48749,     0.48849,     0.48949,     0.49049,     0.49149,     0.49249,     0.49349,     0.49449,      0.4955,      0.4965,      0.4975,      0.4985,      0.4995,      0.5005,      0.5015,      0.5025,      0.5035,\n",
       "            0.5045,     0.50551,     0.50651,     0.50751,     0.50851,     0.50951,     0.51051,     0.51151,     0.51251,     0.51351,     0.51451,     0.51552,     0.51652,     0.51752,     0.51852,     0.51952,     0.52052,     0.52152,     0.52252,     0.52352,     0.52452,     0.52553,     0.52653,     0.52753,\n",
       "           0.52853,     0.52953,     0.53053,     0.53153,     0.53253,     0.53353,     0.53453,     0.53554,     0.53654,     0.53754,     0.53854,     0.53954,     0.54054,     0.54154,     0.54254,     0.54354,     0.54454,     0.54555,     0.54655,     0.54755,     0.54855,     0.54955,     0.55055,     0.55155,\n",
       "           0.55255,     0.55355,     0.55455,     0.55556,     0.55656,     0.55756,     0.55856,     0.55956,     0.56056,     0.56156,     0.56256,     0.56356,     0.56456,     0.56557,     0.56657,     0.56757,     0.56857,     0.56957,     0.57057,     0.57157,     0.57257,     0.57357,     0.57457,     0.57558,\n",
       "           0.57658,     0.57758,     0.57858,     0.57958,     0.58058,     0.58158,     0.58258,     0.58358,     0.58458,     0.58559,     0.58659,     0.58759,     0.58859,     0.58959,     0.59059,     0.59159,     0.59259,     0.59359,     0.59459,      0.5956,      0.5966,      0.5976,      0.5986,      0.5996,\n",
       "            0.6006,      0.6016,      0.6026,      0.6036,      0.6046,     0.60561,     0.60661,     0.60761,     0.60861,     0.60961,     0.61061,     0.61161,     0.61261,     0.61361,     0.61461,     0.61562,     0.61662,     0.61762,     0.61862,     0.61962,     0.62062,     0.62162,     0.62262,     0.62362,\n",
       "           0.62462,     0.62563,     0.62663,     0.62763,     0.62863,     0.62963,     0.63063,     0.63163,     0.63263,     0.63363,     0.63463,     0.63564,     0.63664,     0.63764,     0.63864,     0.63964,     0.64064,     0.64164,     0.64264,     0.64364,     0.64464,     0.64565,     0.64665,     0.64765,\n",
       "           0.64865,     0.64965,     0.65065,     0.65165,     0.65265,     0.65365,     0.65465,     0.65566,     0.65666,     0.65766,     0.65866,     0.65966,     0.66066,     0.66166,     0.66266,     0.66366,     0.66466,     0.66567,     0.66667,     0.66767,     0.66867,     0.66967,     0.67067,     0.67167,\n",
       "           0.67267,     0.67367,     0.67467,     0.67568,     0.67668,     0.67768,     0.67868,     0.67968,     0.68068,     0.68168,     0.68268,     0.68368,     0.68468,     0.68569,     0.68669,     0.68769,     0.68869,     0.68969,     0.69069,     0.69169,     0.69269,     0.69369,     0.69469,      0.6957,\n",
       "            0.6967,      0.6977,      0.6987,      0.6997,      0.7007,      0.7017,      0.7027,      0.7037,      0.7047,     0.70571,     0.70671,     0.70771,     0.70871,     0.70971,     0.71071,     0.71171,     0.71271,     0.71371,     0.71471,     0.71572,     0.71672,     0.71772,     0.71872,     0.71972,\n",
       "           0.72072,     0.72172,     0.72272,     0.72372,     0.72472,     0.72573,     0.72673,     0.72773,     0.72873,     0.72973,     0.73073,     0.73173,     0.73273,     0.73373,     0.73473,     0.73574,     0.73674,     0.73774,     0.73874,     0.73974,     0.74074,     0.74174,     0.74274,     0.74374,\n",
       "           0.74474,     0.74575,     0.74675,     0.74775,     0.74875,     0.74975,     0.75075,     0.75175,     0.75275,     0.75375,     0.75475,     0.75576,     0.75676,     0.75776,     0.75876,     0.75976,     0.76076,     0.76176,     0.76276,     0.76376,     0.76476,     0.76577,     0.76677,     0.76777,\n",
       "           0.76877,     0.76977,     0.77077,     0.77177,     0.77277,     0.77377,     0.77477,     0.77578,     0.77678,     0.77778,     0.77878,     0.77978,     0.78078,     0.78178,     0.78278,     0.78378,     0.78478,     0.78579,     0.78679,     0.78779,     0.78879,     0.78979,     0.79079,     0.79179,\n",
       "           0.79279,     0.79379,     0.79479,      0.7958,      0.7968,      0.7978,      0.7988,      0.7998,      0.8008,      0.8018,      0.8028,      0.8038,      0.8048,     0.80581,     0.80681,     0.80781,     0.80881,     0.80981,     0.81081,     0.81181,     0.81281,     0.81381,     0.81481,     0.81582,\n",
       "           0.81682,     0.81782,     0.81882,     0.81982,     0.82082,     0.82182,     0.82282,     0.82382,     0.82482,     0.82583,     0.82683,     0.82783,     0.82883,     0.82983,     0.83083,     0.83183,     0.83283,     0.83383,     0.83483,     0.83584,     0.83684,     0.83784,     0.83884,     0.83984,\n",
       "           0.84084,     0.84184,     0.84284,     0.84384,     0.84484,     0.84585,     0.84685,     0.84785,     0.84885,     0.84985,     0.85085,     0.85185,     0.85285,     0.85385,     0.85485,     0.85586,     0.85686,     0.85786,     0.85886,     0.85986,     0.86086,     0.86186,     0.86286,     0.86386,\n",
       "           0.86486,     0.86587,     0.86687,     0.86787,     0.86887,     0.86987,     0.87087,     0.87187,     0.87287,     0.87387,     0.87487,     0.87588,     0.87688,     0.87788,     0.87888,     0.87988,     0.88088,     0.88188,     0.88288,     0.88388,     0.88488,     0.88589,     0.88689,     0.88789,\n",
       "           0.88889,     0.88989,     0.89089,     0.89189,     0.89289,     0.89389,     0.89489,      0.8959,      0.8969,      0.8979,      0.8989,      0.8999,      0.9009,      0.9019,      0.9029,      0.9039,      0.9049,     0.90591,     0.90691,     0.90791,     0.90891,     0.90991,     0.91091,     0.91191,\n",
       "           0.91291,     0.91391,     0.91491,     0.91592,     0.91692,     0.91792,     0.91892,     0.91992,     0.92092,     0.92192,     0.92292,     0.92392,     0.92492,     0.92593,     0.92693,     0.92793,     0.92893,     0.92993,     0.93093,     0.93193,     0.93293,     0.93393,     0.93493,     0.93594,\n",
       "           0.93694,     0.93794,     0.93894,     0.93994,     0.94094,     0.94194,     0.94294,     0.94394,     0.94494,     0.94595,     0.94695,     0.94795,     0.94895,     0.94995,     0.95095,     0.95195,     0.95295,     0.95395,     0.95495,     0.95596,     0.95696,     0.95796,     0.95896,     0.95996,\n",
       "           0.96096,     0.96196,     0.96296,     0.96396,     0.96496,     0.96597,     0.96697,     0.96797,     0.96897,     0.96997,     0.97097,     0.97197,     0.97297,     0.97397,     0.97497,     0.97598,     0.97698,     0.97798,     0.97898,     0.97998,     0.98098,     0.98198,     0.98298,     0.98398,\n",
       "           0.98498,     0.98599,     0.98699,     0.98799,     0.98899,     0.98999,     0.99099,     0.99199,     0.99299,     0.99399,     0.99499,       0.996,       0.997,       0.998,       0.999,           1]), array([[     0.8209,      0.8209,      0.8209,      0.8209,      0.8209,      0.8209,      0.8209,      0.8209,      0.8209,      0.8209,      0.8209,      0.8209,      0.8209,      0.8209,      0.8209,      0.8209,      0.8209,      0.8209,      0.8209,      0.8209,      0.8209,      0.8209,      0.8209,\n",
       "             0.8209,      0.8209,      0.8209,      0.8209,      0.8209,      0.8209,      0.8209,      0.8209,      0.8209,      0.8209,      0.8209,      0.8209,      0.8209,      0.8209,      0.8209,      0.8209,      0.8209,      0.8209,      0.8209,      0.8209,      0.8209,      0.8209,      0.8209,\n",
       "             0.8209,      0.8209,      0.8209,      0.8209,      0.8209,      0.8209,      0.8209,      0.8209,      0.8209,      0.8209,      0.8209,      0.8209,      0.8209,      0.8209,      0.8209,      0.8209,      0.8209,      0.8209,      0.8209,      0.8209,      0.8209,      0.8209,      0.8209,\n",
       "             0.8209,      0.8209,      0.8209,      0.8209,      0.8209,      0.8209,      0.8209,      0.8209,      0.8209,      0.8209,      0.8209,      0.8209,      0.8209,      0.8209,      0.8209,      0.8209,      0.8209,      0.8209,      0.8209,      0.8209,      0.8209,      0.8209,      0.8209,\n",
       "             0.8209,      0.8209,      0.8209,      0.8209,      0.8209,      0.8209,      0.8209,      0.8209,      0.8209,      0.8209,      0.8209,      0.8209,      0.8209,      0.8209,      0.8209,      0.8209,      0.8209,      0.8209,      0.8209,      0.8209,      0.8209,      0.8209,      0.8209,\n",
       "             0.8209,      0.8209,      0.8209,      0.8209,      0.8209,      0.8209,      0.8209,      0.8209,      0.8209,      0.8209,      0.8209,      0.8209,      0.8209,      0.8209,      0.8209,      0.8209,      0.8209,      0.8209,      0.8209,      0.8209,      0.8209,     0.81429,     0.81429,\n",
       "            0.81429,     0.81429,     0.81429,     0.80822,     0.80822,     0.80822,     0.80822,     0.80822,         0.8,         0.8,     0.79259,     0.79259,     0.79259,     0.79259,     0.79259,     0.79259,     0.79259,     0.79259,     0.79259,     0.79259,     0.79259,     0.79259,     0.79259,\n",
       "            0.79259,     0.79259,     0.79259,     0.79259,     0.79259,     0.79259,     0.79259,     0.79259,     0.79259,     0.79259,     0.79259,     0.79259,     0.79259,     0.79259,     0.79259,     0.79259,     0.79259,     0.79259,     0.79259,     0.79259,     0.79259,     0.79259,     0.79259,\n",
       "            0.79259,     0.79259,     0.79259,     0.79259,     0.79259,     0.79259,     0.79259,     0.79259,     0.79259,     0.79259,     0.79259,     0.79259,     0.79259,     0.79259,     0.79259,     0.79259,     0.79259,     0.79259,     0.79259,     0.79259,     0.79259,     0.79259,     0.79259,\n",
       "            0.79259,     0.79259,     0.79259,     0.79259,     0.79259,     0.79259,     0.79259,     0.79259,     0.79259,     0.79259,     0.79259,     0.79259,     0.79259,     0.79259,     0.79259,     0.79259,     0.79259,     0.79259,     0.79259,     0.79259,     0.79259,     0.79259,     0.79259,\n",
       "            0.79259,     0.79259,     0.79259,     0.79259,     0.79259,     0.79259,     0.79259,     0.79259,     0.79259,     0.79259,     0.79259,     0.79259,     0.79259,     0.79259,     0.79259,     0.79259,     0.79259,     0.79259,     0.79259,     0.79259,     0.79259,     0.79259,     0.79259,\n",
       "            0.79259,     0.79259,     0.79259,     0.79259,     0.79259,     0.79259,     0.79259,     0.79259,     0.79259,     0.79259,     0.79259,     0.79137,     0.79137,     0.79137,     0.79137,     0.79137,     0.79137,     0.79137,     0.78723,     0.78723,     0.78723,      0.7871,      0.7871,\n",
       "             0.7871,      0.7871,      0.7871,      0.7871,      0.7871,      0.7871,      0.7871,      0.7871,      0.7871,      0.7871,      0.7871,      0.7871,      0.7871,      0.7871,      0.7871,      0.7871,      0.7871,      0.7871,      0.7871,      0.7871,      0.7871,      0.7871,      0.7871,\n",
       "             0.7871,      0.7871,     0.78448,     0.78448,     0.78448,     0.78448,     0.78448,     0.78448,     0.78448,     0.78448,     0.78448,     0.78448,     0.78448,     0.78448,     0.78448,     0.78448,     0.78448,     0.78448,     0.78448,     0.78448,     0.78448,     0.78448,     0.78448,\n",
       "            0.78448,     0.78448,     0.78448,     0.78448,     0.78448,     0.78448,     0.78448,     0.78448,     0.78448,     0.78448,     0.78448,     0.78448,     0.78448,     0.78448,     0.78448,     0.78448,     0.78448,     0.78448,     0.78448,     0.78448,     0.78448,     0.78448,     0.78448,\n",
       "            0.78448,     0.78448,     0.78448,     0.78448,     0.78448,     0.78448,     0.78448,     0.78448,     0.78448,     0.78448,     0.78448,     0.78448,     0.78448,     0.78448,     0.78448,     0.78448,     0.78448,     0.78448,     0.78448,     0.78448,     0.78448,     0.78448,     0.78448,\n",
       "            0.78448,     0.78448,     0.78448,     0.78448,     0.78448,     0.78448,     0.78448,     0.78448,     0.78448,     0.78448,     0.78448,     0.78448,     0.78448,     0.78448,     0.78448,     0.78448,     0.78448,     0.78448,     0.78448,     0.78448,     0.78448,     0.78448,     0.78448,\n",
       "            0.78448,     0.78448,     0.78448,     0.78448,     0.78448,     0.78448,     0.78448,     0.78448,     0.78448,     0.78448,     0.78448,     0.78448,     0.78448,     0.78448,     0.78448,     0.78448,     0.78448,     0.78448,     0.78448,     0.78448,     0.78448,     0.78448,     0.78448,\n",
       "            0.78448,     0.78448,     0.78448,     0.78448,     0.78448,     0.78448,     0.78448,     0.78448,     0.78448,     0.78448,     0.78448,     0.78448,     0.78448,     0.78448,     0.78448,     0.78448,     0.78448,     0.78448,     0.78448,     0.78448,     0.78448,     0.78448,     0.78448,\n",
       "            0.78448,     0.78448,     0.78448,     0.78448,     0.78448,     0.78448,     0.78448,     0.78448,     0.78448,     0.78448,     0.78448,     0.78205,     0.78205,     0.78205,     0.77824,     0.77824,     0.77824,     0.77824,     0.77824,     0.77824,     0.77824,     0.77593,     0.77593,\n",
       "            0.77593,     0.77459,     0.77459,     0.77459,     0.77459,     0.77459,     0.77455,     0.77455,     0.77455,     0.77455,     0.77455,     0.77455,     0.77455,     0.77455,     0.77455,     0.77455,     0.77455,     0.77455,     0.77455,     0.77455,     0.77455,     0.77455,     0.77455,\n",
       "            0.77455,     0.77455,     0.77455,     0.77455,     0.77455,     0.77455,     0.77455,     0.77455,     0.77455,     0.77455,     0.77455,     0.77455,     0.77455,     0.77455,     0.77455,     0.77455,     0.77455,     0.77455,     0.77455,     0.77455,     0.77455,     0.77455,     0.77455,\n",
       "            0.77455,     0.77455,     0.77455,     0.77455,     0.77455,     0.77455,     0.77455,     0.77455,     0.77455,     0.77455,     0.77455,     0.77455,     0.77455,     0.77455,     0.77455,     0.77455,     0.77455,     0.77455,     0.77455,     0.77193,     0.77193,     0.77193,     0.77193,\n",
       "            0.77193,     0.77193,     0.77193,     0.77193,     0.77193,     0.77193,     0.77193,     0.77193,     0.77193,     0.77193,     0.77193,     0.77193,     0.77193,     0.77181,     0.77181,     0.77181,     0.77181,     0.77181,     0.77181,     0.77181,     0.77181,     0.77181,     0.77181,\n",
       "            0.77181,     0.77181,     0.77181,     0.77181,     0.77181,     0.77181,     0.77181,     0.77181,     0.77181,     0.77181,     0.77181,     0.77181,     0.77181,     0.77181,        0.77,        0.77,        0.77,     0.76393,     0.76393,     0.76393,     0.76393,     0.76393,     0.76261,\n",
       "            0.76261,     0.76261,     0.76261,     0.76261,     0.76261,     0.76261,     0.76261,     0.76261,     0.76261,     0.76261,     0.76261,     0.76261,     0.76261,     0.76261,     0.76261,     0.76261,     0.76261,     0.76261,     0.76261,     0.76261,     0.76261,     0.76261,     0.76261,\n",
       "            0.76261,     0.76261,     0.76261,     0.76261,     0.76261,     0.76261,     0.76261,     0.76261,     0.76261,     0.76261,     0.76261,     0.76261,     0.76261,     0.76261,     0.76261,     0.76261,     0.76261,     0.76261,     0.76261,     0.76261,     0.76261,     0.76261,     0.76261,\n",
       "            0.76261,     0.76261,     0.76261,     0.76261,     0.76261,     0.76261,     0.76261,     0.76261,     0.76261,     0.76261,     0.76261,     0.76261,     0.76023,     0.76023,     0.76023,     0.76023,     0.76023,     0.76023,     0.76023,     0.75504,     0.75504,     0.75504,     0.75504,\n",
       "            0.75504,     0.75429,     0.75429,     0.75429,     0.75429,     0.75429,        0.75,        0.75,        0.75,        0.75,        0.75,        0.75,        0.75,      0.7486,      0.7486,      0.7486,     0.74586,     0.74586,     0.74586,     0.74586,     0.74586,     0.74451,     0.74451,\n",
       "            0.73713,     0.73713,     0.73713,     0.73458,     0.73458,     0.73458,     0.73458,     0.73458,     0.73351,     0.73351,     0.73351,     0.73351,     0.73351,     0.73351,     0.73351,     0.73351,     0.73351,     0.73351,     0.73037,     0.73037,     0.72868,     0.72868,     0.72868,\n",
       "            0.72868,     0.72868,     0.72868,     0.72868,     0.71646,     0.71646,     0.71646,        0.71,        0.71,     0.70488,     0.70488,     0.70488,     0.70488,     0.70488,     0.70488,     0.70488,     0.70488,     0.70488,     0.70488,     0.70488,     0.70488,     0.70488,     0.70388,\n",
       "            0.70388,      0.7012,      0.7012,      0.7012,     0.70096,     0.70096,     0.70096,     0.70096,     0.69668,     0.69668,     0.69668,     0.69159,     0.69159,     0.69159,     0.69159,     0.69159,     0.68664,     0.68664,     0.68664,     0.68664,     0.68664,       0.678,       0.678,\n",
       "             0.6772,      0.6772,      0.6772,      0.6764,      0.6764,     0.67411,     0.67411,     0.67411,     0.67184,     0.67184,     0.67033,     0.67033,     0.67033,     0.67033,     0.67033,     0.66955,     0.66955,     0.66955,     0.66955,     0.66955,     0.66955,     0.66955,     0.66955,\n",
       "            0.66955,     0.66955,     0.66955,     0.66955,     0.66596,     0.66596,     0.66596,     0.66596,     0.66596,     0.66596,     0.66596,     0.66596,     0.66105,     0.66105,       0.659,       0.659,       0.659,     0.65361,     0.65361,     0.65361,     0.65361,     0.65361,     0.62846,\n",
       "            0.62846,     0.62183,     0.62183,     0.62136,     0.62136,     0.62136,     0.61568,     0.61568,     0.61568,     0.61568,     0.61568,     0.61553,     0.61553,     0.61553,     0.61553,     0.61553,     0.61553,     0.61553,     0.61278,     0.61278,     0.61278,     0.61121,     0.61121,\n",
       "            0.60967,     0.60967,     0.60967,     0.60701,     0.60701,     0.60329,     0.60329,     0.59855,     0.59855,     0.59855,     0.59286,     0.59286,     0.59253,     0.59253,     0.59253,     0.58188,     0.58188,     0.57633,     0.57633,     0.57633,     0.57633,     0.57633,     0.57411,\n",
       "            0.57411,     0.57411,     0.56146,     0.56146,     0.55212,     0.55212,     0.55212,     0.54927,     0.54927,     0.54299,     0.54299,     0.54299,     0.53858,     0.53858,     0.51042,     0.51042,     0.50588,     0.50588,     0.50588,     0.50365,     0.50365,     0.49218,     0.49218,\n",
       "            0.49218,     0.48261,     0.48261,     0.46032,     0.46032,     0.46032,     0.44515,     0.44515,     0.44025,     0.44025,     0.44025,      0.4382,      0.4382,     0.40788,     0.40788,     0.40788,     0.37593,     0.37593,     0.34302,     0.34302,     0.34302,     0.31616,     0.31616,\n",
       "            0.31616,     0.31616,     0.29383,     0.29383,     0.29383,     0.28941,     0.28941,     0.27701,     0.27701,     0.27701,      0.2765,      0.2765,     0.25104,     0.25104,     0.25104,     0.24101,     0.24101,     0.23389,     0.23389,     0.23389,     0.21823,     0.21823,     0.18824,\n",
       "            0.18824,     0.18824,     0.18693,     0.18693,     0.18465,     0.18465,     0.18465,     0.18465,     0.18465,      0.1497,      0.1497,     0.14464,     0.14464,     0.14464,     0.13241,     0.13241,     0.12479,     0.12479,     0.12479,     0.12246,     0.12246,     0.11525,     0.11525,\n",
       "            0.11525,     0.11316,     0.11316,     0.10459,     0.10459,     0.10459,    0.098049,    0.098049,    0.086499,    0.086499,    0.086499,    0.073701,    0.073701,    0.073701,    0.073701,    0.073701,    0.055923,    0.055923,     0.05333,     0.05333,    0.044326,    0.043575,    0.042824,\n",
       "           0.042072,    0.041321,     0.04057,    0.039819,    0.039067,    0.038316,    0.037565,    0.036813,    0.036062,    0.035311,    0.034559,    0.033808,    0.033057,    0.032306,    0.031554,    0.030803,    0.030052,      0.0293,    0.028549,    0.027798,    0.027047,    0.026295,    0.025544,\n",
       "           0.024793,    0.024041,     0.02329,    0.022539,    0.021788,    0.021036,    0.020285,    0.019534,    0.018782,    0.018031,     0.01728,    0.016528,    0.015777,    0.015026,    0.014275,    0.013523,    0.012772,    0.012021,    0.011269,    0.010518,   0.0097668,   0.0090155,   0.0082642,\n",
       "          0.0075129,   0.0067616,   0.0060103,   0.0052591,   0.0045078,   0.0037565,   0.0030052,   0.0022539,   0.0015026,  0.00075129,           0]]), 'Recall', 'Precision'], [array([          0,    0.001001,    0.002002,    0.003003,    0.004004,    0.005005,    0.006006,    0.007007,    0.008008,    0.009009,     0.01001,    0.011011,    0.012012,    0.013013,    0.014014,    0.015015,    0.016016,    0.017017,    0.018018,    0.019019,     0.02002,    0.021021,    0.022022,    0.023023,\n",
       "          0.024024,    0.025025,    0.026026,    0.027027,    0.028028,    0.029029,     0.03003,    0.031031,    0.032032,    0.033033,    0.034034,    0.035035,    0.036036,    0.037037,    0.038038,    0.039039,     0.04004,    0.041041,    0.042042,    0.043043,    0.044044,    0.045045,    0.046046,    0.047047,\n",
       "          0.048048,    0.049049,     0.05005,    0.051051,    0.052052,    0.053053,    0.054054,    0.055055,    0.056056,    0.057057,    0.058058,    0.059059,     0.06006,    0.061061,    0.062062,    0.063063,    0.064064,    0.065065,    0.066066,    0.067067,    0.068068,    0.069069,     0.07007,    0.071071,\n",
       "          0.072072,    0.073073,    0.074074,    0.075075,    0.076076,    0.077077,    0.078078,    0.079079,     0.08008,    0.081081,    0.082082,    0.083083,    0.084084,    0.085085,    0.086086,    0.087087,    0.088088,    0.089089,     0.09009,    0.091091,    0.092092,    0.093093,    0.094094,    0.095095,\n",
       "          0.096096,    0.097097,    0.098098,    0.099099,      0.1001,      0.1011,      0.1021,      0.1031,      0.1041,     0.10511,     0.10611,     0.10711,     0.10811,     0.10911,     0.11011,     0.11111,     0.11211,     0.11311,     0.11411,     0.11512,     0.11612,     0.11712,     0.11812,     0.11912,\n",
       "           0.12012,     0.12112,     0.12212,     0.12312,     0.12412,     0.12513,     0.12613,     0.12713,     0.12813,     0.12913,     0.13013,     0.13113,     0.13213,     0.13313,     0.13413,     0.13514,     0.13614,     0.13714,     0.13814,     0.13914,     0.14014,     0.14114,     0.14214,     0.14314,\n",
       "           0.14414,     0.14515,     0.14615,     0.14715,     0.14815,     0.14915,     0.15015,     0.15115,     0.15215,     0.15315,     0.15415,     0.15516,     0.15616,     0.15716,     0.15816,     0.15916,     0.16016,     0.16116,     0.16216,     0.16316,     0.16416,     0.16517,     0.16617,     0.16717,\n",
       "           0.16817,     0.16917,     0.17017,     0.17117,     0.17217,     0.17317,     0.17417,     0.17518,     0.17618,     0.17718,     0.17818,     0.17918,     0.18018,     0.18118,     0.18218,     0.18318,     0.18418,     0.18519,     0.18619,     0.18719,     0.18819,     0.18919,     0.19019,     0.19119,\n",
       "           0.19219,     0.19319,     0.19419,      0.1952,      0.1962,      0.1972,      0.1982,      0.1992,      0.2002,      0.2012,      0.2022,      0.2032,      0.2042,     0.20521,     0.20621,     0.20721,     0.20821,     0.20921,     0.21021,     0.21121,     0.21221,     0.21321,     0.21421,     0.21522,\n",
       "           0.21622,     0.21722,     0.21822,     0.21922,     0.22022,     0.22122,     0.22222,     0.22322,     0.22422,     0.22523,     0.22623,     0.22723,     0.22823,     0.22923,     0.23023,     0.23123,     0.23223,     0.23323,     0.23423,     0.23524,     0.23624,     0.23724,     0.23824,     0.23924,\n",
       "           0.24024,     0.24124,     0.24224,     0.24324,     0.24424,     0.24525,     0.24625,     0.24725,     0.24825,     0.24925,     0.25025,     0.25125,     0.25225,     0.25325,     0.25425,     0.25526,     0.25626,     0.25726,     0.25826,     0.25926,     0.26026,     0.26126,     0.26226,     0.26326,\n",
       "           0.26426,     0.26527,     0.26627,     0.26727,     0.26827,     0.26927,     0.27027,     0.27127,     0.27227,     0.27327,     0.27427,     0.27528,     0.27628,     0.27728,     0.27828,     0.27928,     0.28028,     0.28128,     0.28228,     0.28328,     0.28428,     0.28529,     0.28629,     0.28729,\n",
       "           0.28829,     0.28929,     0.29029,     0.29129,     0.29229,     0.29329,     0.29429,      0.2953,      0.2963,      0.2973,      0.2983,      0.2993,      0.3003,      0.3013,      0.3023,      0.3033,      0.3043,     0.30531,     0.30631,     0.30731,     0.30831,     0.30931,     0.31031,     0.31131,\n",
       "           0.31231,     0.31331,     0.31431,     0.31532,     0.31632,     0.31732,     0.31832,     0.31932,     0.32032,     0.32132,     0.32232,     0.32332,     0.32432,     0.32533,     0.32633,     0.32733,     0.32833,     0.32933,     0.33033,     0.33133,     0.33233,     0.33333,     0.33433,     0.33534,\n",
       "           0.33634,     0.33734,     0.33834,     0.33934,     0.34034,     0.34134,     0.34234,     0.34334,     0.34434,     0.34535,     0.34635,     0.34735,     0.34835,     0.34935,     0.35035,     0.35135,     0.35235,     0.35335,     0.35435,     0.35536,     0.35636,     0.35736,     0.35836,     0.35936,\n",
       "           0.36036,     0.36136,     0.36236,     0.36336,     0.36436,     0.36537,     0.36637,     0.36737,     0.36837,     0.36937,     0.37037,     0.37137,     0.37237,     0.37337,     0.37437,     0.37538,     0.37638,     0.37738,     0.37838,     0.37938,     0.38038,     0.38138,     0.38238,     0.38338,\n",
       "           0.38438,     0.38539,     0.38639,     0.38739,     0.38839,     0.38939,     0.39039,     0.39139,     0.39239,     0.39339,     0.39439,      0.3954,      0.3964,      0.3974,      0.3984,      0.3994,      0.4004,      0.4014,      0.4024,      0.4034,      0.4044,     0.40541,     0.40641,     0.40741,\n",
       "           0.40841,     0.40941,     0.41041,     0.41141,     0.41241,     0.41341,     0.41441,     0.41542,     0.41642,     0.41742,     0.41842,     0.41942,     0.42042,     0.42142,     0.42242,     0.42342,     0.42442,     0.42543,     0.42643,     0.42743,     0.42843,     0.42943,     0.43043,     0.43143,\n",
       "           0.43243,     0.43343,     0.43443,     0.43544,     0.43644,     0.43744,     0.43844,     0.43944,     0.44044,     0.44144,     0.44244,     0.44344,     0.44444,     0.44545,     0.44645,     0.44745,     0.44845,     0.44945,     0.45045,     0.45145,     0.45245,     0.45345,     0.45445,     0.45546,\n",
       "           0.45646,     0.45746,     0.45846,     0.45946,     0.46046,     0.46146,     0.46246,     0.46346,     0.46446,     0.46547,     0.46647,     0.46747,     0.46847,     0.46947,     0.47047,     0.47147,     0.47247,     0.47347,     0.47447,     0.47548,     0.47648,     0.47748,     0.47848,     0.47948,\n",
       "           0.48048,     0.48148,     0.48248,     0.48348,     0.48448,     0.48549,     0.48649,     0.48749,     0.48849,     0.48949,     0.49049,     0.49149,     0.49249,     0.49349,     0.49449,      0.4955,      0.4965,      0.4975,      0.4985,      0.4995,      0.5005,      0.5015,      0.5025,      0.5035,\n",
       "            0.5045,     0.50551,     0.50651,     0.50751,     0.50851,     0.50951,     0.51051,     0.51151,     0.51251,     0.51351,     0.51451,     0.51552,     0.51652,     0.51752,     0.51852,     0.51952,     0.52052,     0.52152,     0.52252,     0.52352,     0.52452,     0.52553,     0.52653,     0.52753,\n",
       "           0.52853,     0.52953,     0.53053,     0.53153,     0.53253,     0.53353,     0.53453,     0.53554,     0.53654,     0.53754,     0.53854,     0.53954,     0.54054,     0.54154,     0.54254,     0.54354,     0.54454,     0.54555,     0.54655,     0.54755,     0.54855,     0.54955,     0.55055,     0.55155,\n",
       "           0.55255,     0.55355,     0.55455,     0.55556,     0.55656,     0.55756,     0.55856,     0.55956,     0.56056,     0.56156,     0.56256,     0.56356,     0.56456,     0.56557,     0.56657,     0.56757,     0.56857,     0.56957,     0.57057,     0.57157,     0.57257,     0.57357,     0.57457,     0.57558,\n",
       "           0.57658,     0.57758,     0.57858,     0.57958,     0.58058,     0.58158,     0.58258,     0.58358,     0.58458,     0.58559,     0.58659,     0.58759,     0.58859,     0.58959,     0.59059,     0.59159,     0.59259,     0.59359,     0.59459,      0.5956,      0.5966,      0.5976,      0.5986,      0.5996,\n",
       "            0.6006,      0.6016,      0.6026,      0.6036,      0.6046,     0.60561,     0.60661,     0.60761,     0.60861,     0.60961,     0.61061,     0.61161,     0.61261,     0.61361,     0.61461,     0.61562,     0.61662,     0.61762,     0.61862,     0.61962,     0.62062,     0.62162,     0.62262,     0.62362,\n",
       "           0.62462,     0.62563,     0.62663,     0.62763,     0.62863,     0.62963,     0.63063,     0.63163,     0.63263,     0.63363,     0.63463,     0.63564,     0.63664,     0.63764,     0.63864,     0.63964,     0.64064,     0.64164,     0.64264,     0.64364,     0.64464,     0.64565,     0.64665,     0.64765,\n",
       "           0.64865,     0.64965,     0.65065,     0.65165,     0.65265,     0.65365,     0.65465,     0.65566,     0.65666,     0.65766,     0.65866,     0.65966,     0.66066,     0.66166,     0.66266,     0.66366,     0.66466,     0.66567,     0.66667,     0.66767,     0.66867,     0.66967,     0.67067,     0.67167,\n",
       "           0.67267,     0.67367,     0.67467,     0.67568,     0.67668,     0.67768,     0.67868,     0.67968,     0.68068,     0.68168,     0.68268,     0.68368,     0.68468,     0.68569,     0.68669,     0.68769,     0.68869,     0.68969,     0.69069,     0.69169,     0.69269,     0.69369,     0.69469,      0.6957,\n",
       "            0.6967,      0.6977,      0.6987,      0.6997,      0.7007,      0.7017,      0.7027,      0.7037,      0.7047,     0.70571,     0.70671,     0.70771,     0.70871,     0.70971,     0.71071,     0.71171,     0.71271,     0.71371,     0.71471,     0.71572,     0.71672,     0.71772,     0.71872,     0.71972,\n",
       "           0.72072,     0.72172,     0.72272,     0.72372,     0.72472,     0.72573,     0.72673,     0.72773,     0.72873,     0.72973,     0.73073,     0.73173,     0.73273,     0.73373,     0.73473,     0.73574,     0.73674,     0.73774,     0.73874,     0.73974,     0.74074,     0.74174,     0.74274,     0.74374,\n",
       "           0.74474,     0.74575,     0.74675,     0.74775,     0.74875,     0.74975,     0.75075,     0.75175,     0.75275,     0.75375,     0.75475,     0.75576,     0.75676,     0.75776,     0.75876,     0.75976,     0.76076,     0.76176,     0.76276,     0.76376,     0.76476,     0.76577,     0.76677,     0.76777,\n",
       "           0.76877,     0.76977,     0.77077,     0.77177,     0.77277,     0.77377,     0.77477,     0.77578,     0.77678,     0.77778,     0.77878,     0.77978,     0.78078,     0.78178,     0.78278,     0.78378,     0.78478,     0.78579,     0.78679,     0.78779,     0.78879,     0.78979,     0.79079,     0.79179,\n",
       "           0.79279,     0.79379,     0.79479,      0.7958,      0.7968,      0.7978,      0.7988,      0.7998,      0.8008,      0.8018,      0.8028,      0.8038,      0.8048,     0.80581,     0.80681,     0.80781,     0.80881,     0.80981,     0.81081,     0.81181,     0.81281,     0.81381,     0.81481,     0.81582,\n",
       "           0.81682,     0.81782,     0.81882,     0.81982,     0.82082,     0.82182,     0.82282,     0.82382,     0.82482,     0.82583,     0.82683,     0.82783,     0.82883,     0.82983,     0.83083,     0.83183,     0.83283,     0.83383,     0.83483,     0.83584,     0.83684,     0.83784,     0.83884,     0.83984,\n",
       "           0.84084,     0.84184,     0.84284,     0.84384,     0.84484,     0.84585,     0.84685,     0.84785,     0.84885,     0.84985,     0.85085,     0.85185,     0.85285,     0.85385,     0.85485,     0.85586,     0.85686,     0.85786,     0.85886,     0.85986,     0.86086,     0.86186,     0.86286,     0.86386,\n",
       "           0.86486,     0.86587,     0.86687,     0.86787,     0.86887,     0.86987,     0.87087,     0.87187,     0.87287,     0.87387,     0.87487,     0.87588,     0.87688,     0.87788,     0.87888,     0.87988,     0.88088,     0.88188,     0.88288,     0.88388,     0.88488,     0.88589,     0.88689,     0.88789,\n",
       "           0.88889,     0.88989,     0.89089,     0.89189,     0.89289,     0.89389,     0.89489,      0.8959,      0.8969,      0.8979,      0.8989,      0.8999,      0.9009,      0.9019,      0.9029,      0.9039,      0.9049,     0.90591,     0.90691,     0.90791,     0.90891,     0.90991,     0.91091,     0.91191,\n",
       "           0.91291,     0.91391,     0.91491,     0.91592,     0.91692,     0.91792,     0.91892,     0.91992,     0.92092,     0.92192,     0.92292,     0.92392,     0.92492,     0.92593,     0.92693,     0.92793,     0.92893,     0.92993,     0.93093,     0.93193,     0.93293,     0.93393,     0.93493,     0.93594,\n",
       "           0.93694,     0.93794,     0.93894,     0.93994,     0.94094,     0.94194,     0.94294,     0.94394,     0.94494,     0.94595,     0.94695,     0.94795,     0.94895,     0.94995,     0.95095,     0.95195,     0.95295,     0.95395,     0.95495,     0.95596,     0.95696,     0.95796,     0.95896,     0.95996,\n",
       "           0.96096,     0.96196,     0.96296,     0.96396,     0.96496,     0.96597,     0.96697,     0.96797,     0.96897,     0.96997,     0.97097,     0.97197,     0.97297,     0.97397,     0.97497,     0.97598,     0.97698,     0.97798,     0.97898,     0.97998,     0.98098,     0.98198,     0.98298,     0.98398,\n",
       "           0.98498,     0.98599,     0.98699,     0.98799,     0.98899,     0.98999,     0.99099,     0.99199,     0.99299,     0.99399,     0.99499,       0.996,       0.997,       0.998,       0.999,           1]), array([[   0.084738,    0.084738,     0.13022,     0.16348,     0.19324,     0.21743,     0.23696,     0.25686,     0.27681,     0.29331,     0.30602,      0.3177,     0.33047,     0.33905,     0.35053,       0.363,     0.37356,     0.38293,     0.39107,     0.39959,     0.40756,     0.41387,     0.42076,\n",
       "            0.42745,     0.43576,     0.44029,     0.44491,     0.45298,      0.4588,     0.46331,     0.46657,     0.47096,     0.47345,     0.47812,     0.48154,     0.48696,     0.49215,     0.49657,     0.50072,      0.5041,     0.50595,     0.51074,     0.51247,     0.51614,     0.52004,     0.52191,\n",
       "            0.52379,     0.52725,     0.53163,      0.5332,     0.53475,     0.53651,     0.54033,     0.54327,     0.54796,     0.55185,     0.55467,     0.55712,     0.55871,     0.56174,     0.56338,     0.56632,     0.56972,     0.57123,     0.57364,     0.57624,      0.5787,      0.5816,     0.58172,\n",
       "            0.58295,     0.58362,     0.58589,     0.58539,     0.58793,     0.58854,     0.59024,     0.59227,      0.5946,     0.59795,     0.59803,     0.59983,     0.60204,     0.60321,     0.60466,     0.60606,     0.60824,     0.60893,     0.61142,     0.61446,      0.6163,     0.61799,     0.61843,\n",
       "            0.62078,     0.62235,     0.62358,     0.62392,     0.62504,     0.62551,     0.62597,     0.62781,     0.63024,     0.63056,     0.63214,     0.63152,     0.63157,     0.63333,     0.63308,     0.63552,     0.63592,     0.63614,     0.63636,      0.6352,     0.63557,     0.63739,     0.63793,\n",
       "            0.64037,     0.64154,     0.64313,     0.64386,     0.64503,     0.64729,     0.64915,      0.6499,     0.65139,      0.6528,     0.65316,      0.6548,      0.6565,     0.65675,       0.657,     0.65595,     0.65691,     0.65802,     0.65872,     0.65878,     0.66004,     0.66214,     0.66281,\n",
       "            0.66288,     0.66323,     0.66389,     0.66373,      0.6636,     0.66382,     0.66404,     0.66667,     0.66686,     0.66705,     0.66725,     0.66772,     0.66881,     0.66908,     0.66938,      0.6698,     0.67036,     0.66951,     0.66983,     0.67134,     0.67176,      0.6733,     0.67426,\n",
       "            0.67511,      0.6759,     0.67773,     0.67832,     0.67937,     0.67853,     0.67695,     0.67709,      0.6774,     0.67892,     0.67917,     0.67942,     0.68038,      0.6807,     0.68108,     0.68162,     0.68114,     0.68066,     0.68043,     0.68113,     0.68227,     0.68327,     0.68401,\n",
       "            0.68466,     0.68496,     0.68529,     0.68568,     0.68641,     0.68736,      0.6876,     0.68785,     0.68735,     0.68686,     0.68715,     0.68616,     0.68673,     0.68695,     0.68718,      0.6874,     0.68764,     0.68787,     0.68811,     0.69026,      0.6897,     0.68914,     0.68956,\n",
       "            0.69043,     0.69062,      0.6908,     0.69099,     0.69157,     0.69225,     0.69155,     0.69286,     0.69355,     0.69392,     0.69287,     0.69348,     0.69367,     0.69385,     0.69403,     0.69428,     0.69482,     0.69376,     0.69403,     0.69485,     0.69381,     0.69403,     0.69478,\n",
       "            0.69439,      0.6938,     0.69416,     0.69447,     0.69457,     0.69468,     0.69478,     0.69489,     0.69499,      0.6951,     0.69521,     0.69542,     0.69564,     0.69585,      0.6948,     0.69399,     0.69335,     0.69381,     0.69272,     0.69067,     0.69155,     0.69199,     0.69233,\n",
       "            0.69268,     0.69319,     0.69371,     0.69422,     0.69474,     0.69423,     0.69416,     0.69386,     0.69355,     0.69324,     0.69294,     0.69363,     0.69374,     0.69385,     0.69396,     0.69408,     0.69419,      0.6943,     0.69509,      0.6954,     0.69572,     0.69646,     0.69681,\n",
       "            0.69705,     0.69729,     0.69703,     0.69654,     0.69605,     0.69618,     0.69649,     0.69685,      0.6973,     0.69922,     0.69958,     0.70011,     0.70064,     0.70084,     0.70104,     0.70124,     0.70228,      0.7026,     0.70293,     0.70339,     0.70409,     0.70516,     0.70553,\n",
       "            0.70585,     0.70624,      0.7067,     0.70692,     0.70708,     0.70723,     0.70738,     0.70754,     0.70776,       0.708,     0.70825,      0.7094,     0.70987,     0.71003,     0.70875,     0.70956,     0.70986,     0.71016,     0.71099,     0.71128,     0.71152,     0.71175,     0.71211,\n",
       "            0.71258,     0.71132,     0.71145,     0.71158,     0.71172,     0.71185,     0.71198,     0.71226,     0.71259,     0.71149,     0.71197,     0.71326,     0.71373,     0.71452,     0.71423,      0.7138,     0.71337,     0.71243,     0.71124,     0.71038,     0.71043,     0.71074,     0.71104,\n",
       "            0.71135,     0.71165,     0.71203,     0.71251,     0.71238,     0.71048,     0.70902,      0.7095,     0.70933,     0.70819,     0.70778,     0.70737,     0.70696,     0.70761,     0.70847,     0.70696,     0.70559,     0.70601,     0.70698,     0.70657,     0.70616,     0.70574,     0.70659,\n",
       "            0.70684,     0.70708,      0.7058,     0.70603,     0.70625,     0.70648,     0.70683,     0.70725,     0.70683,     0.70594,       0.706,     0.70613,     0.70625,     0.70638,     0.70651,     0.70663,     0.70536,     0.70585,     0.70552,     0.70473,     0.70508,     0.70594,      0.7063,\n",
       "            0.70648,     0.70666,     0.70684,     0.70787,     0.70819,      0.7085,     0.70905,     0.70882,     0.70756,     0.70666,     0.70742,     0.70759,     0.70777,     0.70794,     0.70811,     0.70827,     0.70842,     0.70857,     0.70872,     0.70887,     0.70961,     0.70882,     0.70814,\n",
       "            0.70772,      0.7073,     0.70687,     0.70787,     0.70831,     0.70906,     0.70994,     0.70892,     0.70869,     0.70882,     0.70895,     0.70908,     0.70921,     0.70934,     0.71039,     0.71084,     0.71106,     0.71066,     0.71026,     0.70986,     0.70945,     0.70902,     0.70859,\n",
       "            0.70816,     0.70818,      0.7084,     0.70862,     0.70885,     0.70825,     0.70745,     0.70806,     0.70835,     0.70754,     0.70787,     0.70832,     0.70755,     0.70515,     0.70461,     0.70407,     0.70361,     0.70412,     0.70382,     0.70273,     0.70245,     0.70218,     0.70191,\n",
       "            0.70163,     0.70136,     0.70259,     0.70307,     0.70325,     0.70343,     0.70361,     0.70379,     0.70415,      0.7046,     0.70349,     0.70334,     0.70363,     0.70393,     0.70409,     0.70422,     0.70435,     0.70447,      0.7046,     0.70473,     0.70486,     0.70516,     0.70546,\n",
       "            0.70648,      0.7051,       0.706,      0.7068,     0.70703,     0.70726,     0.70748,     0.70789,     0.71038,     0.71056,     0.71075,     0.71093,     0.71111,     0.70952,     0.70934,     0.70915,     0.70896,     0.70878,     0.70859,     0.70841,     0.70822,     0.70803,      0.7077,\n",
       "            0.70729,     0.70687,     0.70645,     0.70655,     0.70686,     0.70716,     0.70795,     0.70766,      0.7071,     0.70654,     0.70689,     0.70735,     0.70755,     0.70774,     0.70792,     0.70811,     0.70818,     0.70656,     0.70571,     0.70475,     0.70181,     0.70265,     0.70311,\n",
       "            0.70307,     0.70165,     0.70108,     0.70051,     0.70021,     0.70044,     0.70067,      0.7009,     0.70143,     0.70155,     0.70069,     0.70049,     0.70096,     0.70142,     0.70189,     0.70226,     0.70257,     0.70288,      0.7033,     0.70377,     0.70365,      0.7033,     0.70296,\n",
       "            0.70261,     0.70227,      0.7028,     0.70242,     0.70203,     0.70165,     0.70065,     0.69985,     0.70009,     0.70032,     0.70055,     0.70119,     0.70053,     0.70046,     0.69965,      0.6979,     0.69712,     0.69677,     0.69642,     0.69607,     0.69572,     0.69683,     0.69714,\n",
       "            0.69746,     0.69791,     0.69838,     0.69627,     0.69583,     0.69539,     0.69503,      0.6949,     0.69364,     0.69275,     0.69363,      0.6941,     0.69458,     0.69505,     0.69493,     0.69457,     0.69421,     0.69385,      0.6935,     0.69193,     0.69141,     0.68988,     0.68952,\n",
       "            0.68916,     0.68879,     0.68843,     0.68778,     0.68687,     0.68445,     0.68399,     0.68353,     0.68308,      0.6821,     0.67955,     0.67984,     0.67892,     0.67733,     0.67641,     0.67366,     0.67273,     0.66962,     0.66743,     0.66488,     0.66393,     0.66481,     0.66294,\n",
       "            0.66115,       0.662,     0.66145,      0.6609,     0.66036,     0.65892,     0.65765,     0.65669,     0.65596,     0.65532,     0.65468,     0.65576,     0.65614,     0.65507,      0.6541,     0.65299,      0.6517,     0.65343,      0.6525,     0.65338,     0.65148,     0.65104,      0.6506,\n",
       "            0.65016,     0.64973,     0.64929,     0.64885,     0.64841,     0.64797,     0.64739,      0.6464,     0.64122,     0.63855,     0.63623,     0.63533,      0.6358,      0.6349,     0.63351,     0.63053,     0.62995,     0.62937,      0.6276,      0.6238,     0.62341,     0.62237,     0.62128,\n",
       "            0.61989,     0.61596,     0.61181,     0.60749,     0.60536,     0.60417,     0.60541,     0.60059,     0.59951,     0.59264,     0.58489,     0.58378,     0.58133,     0.57976,     0.58022,     0.57795,     0.57645,     0.57613,     0.57658,     0.57576,     0.57107,     0.57153,     0.57017,\n",
       "            0.56864,      0.5674,     0.56624,     0.56477,     0.56096,      0.5594,     0.55591,     0.55474,     0.54756,     0.54323,     0.53931,     0.53863,     0.53794,     0.53725,     0.53261,      0.5258,     0.52458,      0.5193,     0.51764,     0.51424,     0.51352,     0.51281,     0.50443,\n",
       "            0.50274,     0.50379,     0.49601,     0.49429,     0.49203,     0.49245,      0.4913,     0.48816,     0.47867,      0.4763,     0.46942,     0.46983,     0.46358,     0.45456,     0.45272,     0.44985,     0.44223,     0.44276,     0.43946,     0.43435,     0.43244,     0.42247,     0.42101,\n",
       "            0.41416,     0.41005,     0.40808,      0.4056,     0.40266,     0.39548,     0.39345,     0.39141,     0.37733,     0.37525,     0.36705,     0.36275,     0.36169,     0.36063,     0.35372,     0.35158,     0.34627,     0.33861,     0.33906,     0.33464,     0.32267,     0.32044,     0.31159,\n",
       "            0.29929,     0.28681,     0.28447,     0.28365,     0.27772,     0.27795,     0.27557,     0.27319,     0.24954,     0.24708,     0.24717,     0.24906,     0.24941,     0.24612,     0.23822,     0.23164,     0.22908,      0.2239,     0.22261,     0.22132,     0.20217,     0.19563,     0.18207,\n",
       "            0.18106,     0.18004,     0.17903,     0.17694,     0.17072,     0.17098,      0.1575,     0.14907,     0.13795,      0.1351,     0.13316,     0.13144,       0.123,     0.11809,     0.11372,     0.10746,      0.1057,    0.099024,    0.096085,    0.094807,    0.093529,    0.092249,    0.089931,\n",
       "           0.082689,     0.07838,    0.075328,    0.074545,    0.063319,     0.06097,    0.059088,    0.057203,    0.049645,    0.047236,    0.046176,    0.045115,    0.044053,     0.04299,    0.038299,    0.037212,    0.036141,    0.035069,    0.033997,    0.031619,    0.028155,    0.019326,    0.019339,\n",
       "           0.019351,    0.019363,    0.019372,    0.019379,    0.019386,    0.019392,    0.019398,    0.019404,    0.019409,    0.019415,    0.019434,    0.019465,    0.018233,    0.016996,    0.015758,    0.014606,    0.014305,    0.014004,    0.013702,    0.013401,      0.0131,    0.012798,    0.012497,\n",
       "           0.012196,    0.011894,    0.011592,    0.011291,    0.010989,    0.010687,    0.010385,    0.010083,    0.009781,   0.0088749,   0.0079664,   0.0070575,    0.006148,    0.005238,           0,           0,           0,           0,           0,           0,           0,           0,           0,\n",
       "                  0,           0,           0,           0,           0,           0,           0,           0,           0,           0,           0,           0,           0,           0,           0,           0,           0,           0,           0,           0,           0,           0,           0,\n",
       "                  0,           0,           0,           0,           0,           0,           0,           0,           0,           0,           0,           0,           0,           0,           0,           0,           0,           0,           0,           0,           0,           0,           0,\n",
       "                  0,           0,           0,           0,           0,           0,           0,           0,           0,           0,           0,           0,           0,           0,           0,           0,           0,           0,           0,           0,           0,           0,           0,\n",
       "                  0,           0,           0,           0,           0,           0,           0,           0,           0,           0,           0,           0,           0,           0,           0,           0,           0,           0,           0,           0,           0,           0,           0,\n",
       "                  0,           0,           0,           0,           0,           0,           0,           0,           0,           0,           0,           0,           0,           0,           0,           0,           0,           0,           0,           0,           0,           0,           0,\n",
       "                  0,           0,           0,           0,           0,           0,           0,           0,           0,           0,           0]]), 'Confidence', 'F1'], [array([          0,    0.001001,    0.002002,    0.003003,    0.004004,    0.005005,    0.006006,    0.007007,    0.008008,    0.009009,     0.01001,    0.011011,    0.012012,    0.013013,    0.014014,    0.015015,    0.016016,    0.017017,    0.018018,    0.019019,     0.02002,    0.021021,    0.022022,    0.023023,\n",
       "          0.024024,    0.025025,    0.026026,    0.027027,    0.028028,    0.029029,     0.03003,    0.031031,    0.032032,    0.033033,    0.034034,    0.035035,    0.036036,    0.037037,    0.038038,    0.039039,     0.04004,    0.041041,    0.042042,    0.043043,    0.044044,    0.045045,    0.046046,    0.047047,\n",
       "          0.048048,    0.049049,     0.05005,    0.051051,    0.052052,    0.053053,    0.054054,    0.055055,    0.056056,    0.057057,    0.058058,    0.059059,     0.06006,    0.061061,    0.062062,    0.063063,    0.064064,    0.065065,    0.066066,    0.067067,    0.068068,    0.069069,     0.07007,    0.071071,\n",
       "          0.072072,    0.073073,    0.074074,    0.075075,    0.076076,    0.077077,    0.078078,    0.079079,     0.08008,    0.081081,    0.082082,    0.083083,    0.084084,    0.085085,    0.086086,    0.087087,    0.088088,    0.089089,     0.09009,    0.091091,    0.092092,    0.093093,    0.094094,    0.095095,\n",
       "          0.096096,    0.097097,    0.098098,    0.099099,      0.1001,      0.1011,      0.1021,      0.1031,      0.1041,     0.10511,     0.10611,     0.10711,     0.10811,     0.10911,     0.11011,     0.11111,     0.11211,     0.11311,     0.11411,     0.11512,     0.11612,     0.11712,     0.11812,     0.11912,\n",
       "           0.12012,     0.12112,     0.12212,     0.12312,     0.12412,     0.12513,     0.12613,     0.12713,     0.12813,     0.12913,     0.13013,     0.13113,     0.13213,     0.13313,     0.13413,     0.13514,     0.13614,     0.13714,     0.13814,     0.13914,     0.14014,     0.14114,     0.14214,     0.14314,\n",
       "           0.14414,     0.14515,     0.14615,     0.14715,     0.14815,     0.14915,     0.15015,     0.15115,     0.15215,     0.15315,     0.15415,     0.15516,     0.15616,     0.15716,     0.15816,     0.15916,     0.16016,     0.16116,     0.16216,     0.16316,     0.16416,     0.16517,     0.16617,     0.16717,\n",
       "           0.16817,     0.16917,     0.17017,     0.17117,     0.17217,     0.17317,     0.17417,     0.17518,     0.17618,     0.17718,     0.17818,     0.17918,     0.18018,     0.18118,     0.18218,     0.18318,     0.18418,     0.18519,     0.18619,     0.18719,     0.18819,     0.18919,     0.19019,     0.19119,\n",
       "           0.19219,     0.19319,     0.19419,      0.1952,      0.1962,      0.1972,      0.1982,      0.1992,      0.2002,      0.2012,      0.2022,      0.2032,      0.2042,     0.20521,     0.20621,     0.20721,     0.20821,     0.20921,     0.21021,     0.21121,     0.21221,     0.21321,     0.21421,     0.21522,\n",
       "           0.21622,     0.21722,     0.21822,     0.21922,     0.22022,     0.22122,     0.22222,     0.22322,     0.22422,     0.22523,     0.22623,     0.22723,     0.22823,     0.22923,     0.23023,     0.23123,     0.23223,     0.23323,     0.23423,     0.23524,     0.23624,     0.23724,     0.23824,     0.23924,\n",
       "           0.24024,     0.24124,     0.24224,     0.24324,     0.24424,     0.24525,     0.24625,     0.24725,     0.24825,     0.24925,     0.25025,     0.25125,     0.25225,     0.25325,     0.25425,     0.25526,     0.25626,     0.25726,     0.25826,     0.25926,     0.26026,     0.26126,     0.26226,     0.26326,\n",
       "           0.26426,     0.26527,     0.26627,     0.26727,     0.26827,     0.26927,     0.27027,     0.27127,     0.27227,     0.27327,     0.27427,     0.27528,     0.27628,     0.27728,     0.27828,     0.27928,     0.28028,     0.28128,     0.28228,     0.28328,     0.28428,     0.28529,     0.28629,     0.28729,\n",
       "           0.28829,     0.28929,     0.29029,     0.29129,     0.29229,     0.29329,     0.29429,      0.2953,      0.2963,      0.2973,      0.2983,      0.2993,      0.3003,      0.3013,      0.3023,      0.3033,      0.3043,     0.30531,     0.30631,     0.30731,     0.30831,     0.30931,     0.31031,     0.31131,\n",
       "           0.31231,     0.31331,     0.31431,     0.31532,     0.31632,     0.31732,     0.31832,     0.31932,     0.32032,     0.32132,     0.32232,     0.32332,     0.32432,     0.32533,     0.32633,     0.32733,     0.32833,     0.32933,     0.33033,     0.33133,     0.33233,     0.33333,     0.33433,     0.33534,\n",
       "           0.33634,     0.33734,     0.33834,     0.33934,     0.34034,     0.34134,     0.34234,     0.34334,     0.34434,     0.34535,     0.34635,     0.34735,     0.34835,     0.34935,     0.35035,     0.35135,     0.35235,     0.35335,     0.35435,     0.35536,     0.35636,     0.35736,     0.35836,     0.35936,\n",
       "           0.36036,     0.36136,     0.36236,     0.36336,     0.36436,     0.36537,     0.36637,     0.36737,     0.36837,     0.36937,     0.37037,     0.37137,     0.37237,     0.37337,     0.37437,     0.37538,     0.37638,     0.37738,     0.37838,     0.37938,     0.38038,     0.38138,     0.38238,     0.38338,\n",
       "           0.38438,     0.38539,     0.38639,     0.38739,     0.38839,     0.38939,     0.39039,     0.39139,     0.39239,     0.39339,     0.39439,      0.3954,      0.3964,      0.3974,      0.3984,      0.3994,      0.4004,      0.4014,      0.4024,      0.4034,      0.4044,     0.40541,     0.40641,     0.40741,\n",
       "           0.40841,     0.40941,     0.41041,     0.41141,     0.41241,     0.41341,     0.41441,     0.41542,     0.41642,     0.41742,     0.41842,     0.41942,     0.42042,     0.42142,     0.42242,     0.42342,     0.42442,     0.42543,     0.42643,     0.42743,     0.42843,     0.42943,     0.43043,     0.43143,\n",
       "           0.43243,     0.43343,     0.43443,     0.43544,     0.43644,     0.43744,     0.43844,     0.43944,     0.44044,     0.44144,     0.44244,     0.44344,     0.44444,     0.44545,     0.44645,     0.44745,     0.44845,     0.44945,     0.45045,     0.45145,     0.45245,     0.45345,     0.45445,     0.45546,\n",
       "           0.45646,     0.45746,     0.45846,     0.45946,     0.46046,     0.46146,     0.46246,     0.46346,     0.46446,     0.46547,     0.46647,     0.46747,     0.46847,     0.46947,     0.47047,     0.47147,     0.47247,     0.47347,     0.47447,     0.47548,     0.47648,     0.47748,     0.47848,     0.47948,\n",
       "           0.48048,     0.48148,     0.48248,     0.48348,     0.48448,     0.48549,     0.48649,     0.48749,     0.48849,     0.48949,     0.49049,     0.49149,     0.49249,     0.49349,     0.49449,      0.4955,      0.4965,      0.4975,      0.4985,      0.4995,      0.5005,      0.5015,      0.5025,      0.5035,\n",
       "            0.5045,     0.50551,     0.50651,     0.50751,     0.50851,     0.50951,     0.51051,     0.51151,     0.51251,     0.51351,     0.51451,     0.51552,     0.51652,     0.51752,     0.51852,     0.51952,     0.52052,     0.52152,     0.52252,     0.52352,     0.52452,     0.52553,     0.52653,     0.52753,\n",
       "           0.52853,     0.52953,     0.53053,     0.53153,     0.53253,     0.53353,     0.53453,     0.53554,     0.53654,     0.53754,     0.53854,     0.53954,     0.54054,     0.54154,     0.54254,     0.54354,     0.54454,     0.54555,     0.54655,     0.54755,     0.54855,     0.54955,     0.55055,     0.55155,\n",
       "           0.55255,     0.55355,     0.55455,     0.55556,     0.55656,     0.55756,     0.55856,     0.55956,     0.56056,     0.56156,     0.56256,     0.56356,     0.56456,     0.56557,     0.56657,     0.56757,     0.56857,     0.56957,     0.57057,     0.57157,     0.57257,     0.57357,     0.57457,     0.57558,\n",
       "           0.57658,     0.57758,     0.57858,     0.57958,     0.58058,     0.58158,     0.58258,     0.58358,     0.58458,     0.58559,     0.58659,     0.58759,     0.58859,     0.58959,     0.59059,     0.59159,     0.59259,     0.59359,     0.59459,      0.5956,      0.5966,      0.5976,      0.5986,      0.5996,\n",
       "            0.6006,      0.6016,      0.6026,      0.6036,      0.6046,     0.60561,     0.60661,     0.60761,     0.60861,     0.60961,     0.61061,     0.61161,     0.61261,     0.61361,     0.61461,     0.61562,     0.61662,     0.61762,     0.61862,     0.61962,     0.62062,     0.62162,     0.62262,     0.62362,\n",
       "           0.62462,     0.62563,     0.62663,     0.62763,     0.62863,     0.62963,     0.63063,     0.63163,     0.63263,     0.63363,     0.63463,     0.63564,     0.63664,     0.63764,     0.63864,     0.63964,     0.64064,     0.64164,     0.64264,     0.64364,     0.64464,     0.64565,     0.64665,     0.64765,\n",
       "           0.64865,     0.64965,     0.65065,     0.65165,     0.65265,     0.65365,     0.65465,     0.65566,     0.65666,     0.65766,     0.65866,     0.65966,     0.66066,     0.66166,     0.66266,     0.66366,     0.66466,     0.66567,     0.66667,     0.66767,     0.66867,     0.66967,     0.67067,     0.67167,\n",
       "           0.67267,     0.67367,     0.67467,     0.67568,     0.67668,     0.67768,     0.67868,     0.67968,     0.68068,     0.68168,     0.68268,     0.68368,     0.68468,     0.68569,     0.68669,     0.68769,     0.68869,     0.68969,     0.69069,     0.69169,     0.69269,     0.69369,     0.69469,      0.6957,\n",
       "            0.6967,      0.6977,      0.6987,      0.6997,      0.7007,      0.7017,      0.7027,      0.7037,      0.7047,     0.70571,     0.70671,     0.70771,     0.70871,     0.70971,     0.71071,     0.71171,     0.71271,     0.71371,     0.71471,     0.71572,     0.71672,     0.71772,     0.71872,     0.71972,\n",
       "           0.72072,     0.72172,     0.72272,     0.72372,     0.72472,     0.72573,     0.72673,     0.72773,     0.72873,     0.72973,     0.73073,     0.73173,     0.73273,     0.73373,     0.73473,     0.73574,     0.73674,     0.73774,     0.73874,     0.73974,     0.74074,     0.74174,     0.74274,     0.74374,\n",
       "           0.74474,     0.74575,     0.74675,     0.74775,     0.74875,     0.74975,     0.75075,     0.75175,     0.75275,     0.75375,     0.75475,     0.75576,     0.75676,     0.75776,     0.75876,     0.75976,     0.76076,     0.76176,     0.76276,     0.76376,     0.76476,     0.76577,     0.76677,     0.76777,\n",
       "           0.76877,     0.76977,     0.77077,     0.77177,     0.77277,     0.77377,     0.77477,     0.77578,     0.77678,     0.77778,     0.77878,     0.77978,     0.78078,     0.78178,     0.78278,     0.78378,     0.78478,     0.78579,     0.78679,     0.78779,     0.78879,     0.78979,     0.79079,     0.79179,\n",
       "           0.79279,     0.79379,     0.79479,      0.7958,      0.7968,      0.7978,      0.7988,      0.7998,      0.8008,      0.8018,      0.8028,      0.8038,      0.8048,     0.80581,     0.80681,     0.80781,     0.80881,     0.80981,     0.81081,     0.81181,     0.81281,     0.81381,     0.81481,     0.81582,\n",
       "           0.81682,     0.81782,     0.81882,     0.81982,     0.82082,     0.82182,     0.82282,     0.82382,     0.82482,     0.82583,     0.82683,     0.82783,     0.82883,     0.82983,     0.83083,     0.83183,     0.83283,     0.83383,     0.83483,     0.83584,     0.83684,     0.83784,     0.83884,     0.83984,\n",
       "           0.84084,     0.84184,     0.84284,     0.84384,     0.84484,     0.84585,     0.84685,     0.84785,     0.84885,     0.84985,     0.85085,     0.85185,     0.85285,     0.85385,     0.85485,     0.85586,     0.85686,     0.85786,     0.85886,     0.85986,     0.86086,     0.86186,     0.86286,     0.86386,\n",
       "           0.86486,     0.86587,     0.86687,     0.86787,     0.86887,     0.86987,     0.87087,     0.87187,     0.87287,     0.87387,     0.87487,     0.87588,     0.87688,     0.87788,     0.87888,     0.87988,     0.88088,     0.88188,     0.88288,     0.88388,     0.88488,     0.88589,     0.88689,     0.88789,\n",
       "           0.88889,     0.88989,     0.89089,     0.89189,     0.89289,     0.89389,     0.89489,      0.8959,      0.8969,      0.8979,      0.8989,      0.8999,      0.9009,      0.9019,      0.9029,      0.9039,      0.9049,     0.90591,     0.90691,     0.90791,     0.90891,     0.90991,     0.91091,     0.91191,\n",
       "           0.91291,     0.91391,     0.91491,     0.91592,     0.91692,     0.91792,     0.91892,     0.91992,     0.92092,     0.92192,     0.92292,     0.92392,     0.92492,     0.92593,     0.92693,     0.92793,     0.92893,     0.92993,     0.93093,     0.93193,     0.93293,     0.93393,     0.93493,     0.93594,\n",
       "           0.93694,     0.93794,     0.93894,     0.93994,     0.94094,     0.94194,     0.94294,     0.94394,     0.94494,     0.94595,     0.94695,     0.94795,     0.94895,     0.94995,     0.95095,     0.95195,     0.95295,     0.95395,     0.95495,     0.95596,     0.95696,     0.95796,     0.95896,     0.95996,\n",
       "           0.96096,     0.96196,     0.96296,     0.96396,     0.96496,     0.96597,     0.96697,     0.96797,     0.96897,     0.96997,     0.97097,     0.97197,     0.97297,     0.97397,     0.97497,     0.97598,     0.97698,     0.97798,     0.97898,     0.97998,     0.98098,     0.98198,     0.98298,     0.98398,\n",
       "           0.98498,     0.98599,     0.98699,     0.98799,     0.98899,     0.98999,     0.99099,     0.99199,     0.99299,     0.99399,     0.99499,       0.996,       0.997,       0.998,       0.999,           1]), array([[   0.044367,    0.044367,     0.06998,    0.089632,     0.10791,     0.12335,     0.13618,     0.14956,     0.16335,     0.17496,     0.18429,     0.19306,     0.20257,     0.20905,     0.21785,     0.22773,     0.23628,     0.24401,     0.25086,     0.25791,     0.26459,     0.26993,     0.27607,\n",
       "             0.2821,     0.28965,     0.29367,     0.29807,     0.30536,     0.31068,     0.31547,     0.31851,     0.32261,     0.32495,     0.32937,     0.33261,     0.33782,     0.34283,     0.34752,     0.35161,     0.35494,     0.35678,     0.36156,      0.3633,       0.367,     0.37096,     0.37286,\n",
       "            0.37479,     0.37881,     0.38335,     0.38499,      0.3866,     0.38844,     0.39246,     0.39557,     0.40056,     0.40473,     0.40782,     0.41098,     0.41271,     0.41604,     0.41784,     0.42107,     0.42484,     0.42653,     0.42922,     0.43214,     0.43491,     0.43819,     0.43961,\n",
       "            0.44101,     0.44178,     0.44439,     0.44446,      0.4474,     0.44811,     0.45009,     0.45245,     0.45517,     0.45912,     0.45992,     0.46205,     0.46468,     0.46607,     0.46781,     0.46949,     0.47211,     0.47294,     0.47596,     0.47965,      0.4819,     0.48476,      0.4853,\n",
       "             0.4882,     0.49014,     0.49167,     0.49292,     0.49432,      0.4949,     0.49548,     0.49779,     0.50085,     0.50126,     0.50326,     0.50312,      0.5034,     0.50564,      0.5062,     0.50933,     0.50985,     0.51013,     0.51041,     0.50982,      0.5103,     0.51265,     0.51335,\n",
       "            0.51651,     0.51804,     0.52011,     0.52107,      0.5226,     0.52558,     0.52804,     0.52902,       0.531,     0.53288,     0.53336,     0.53555,     0.53783,     0.53816,      0.5385,      0.5381,     0.53939,     0.54089,     0.54184,     0.54255,     0.54466,     0.54753,     0.54844,\n",
       "            0.54898,     0.55008,       0.551,     0.55157,     0.55167,     0.55197,     0.55228,     0.55592,     0.55619,     0.55646,     0.55673,     0.55739,     0.55891,     0.55929,      0.5597,     0.56029,     0.56131,     0.56101,     0.56146,     0.56358,     0.56417,     0.56635,      0.5677,\n",
       "            0.56892,     0.57003,     0.57265,     0.57349,     0.57627,     0.57581,     0.57495,     0.57529,     0.57574,     0.57794,      0.5783,     0.57866,     0.58006,     0.58052,     0.58108,     0.58187,     0.58161,     0.58135,     0.58136,     0.58238,     0.58405,     0.58552,     0.58661,\n",
       "            0.58757,     0.58801,     0.58849,     0.58906,     0.59014,     0.59155,     0.59191,     0.59227,     0.59217,      0.5921,     0.59253,     0.59235,      0.5932,     0.59354,     0.59387,     0.59421,     0.59456,     0.59491,     0.59526,     0.59853,     0.59823,     0.59793,     0.59877,\n",
       "            0.60008,     0.60036,     0.60064,     0.60092,      0.6018,     0.60283,     0.60276,     0.60512,     0.60618,     0.60675,     0.60637,     0.60746,     0.60774,     0.60802,      0.6083,     0.60868,     0.60953,     0.60929,     0.60972,     0.61113,     0.61059,     0.61112,     0.61229,\n",
       "            0.61241,     0.61221,     0.61276,     0.61324,      0.6134,     0.61357,     0.61373,      0.6139,     0.61406,     0.61422,     0.61441,     0.61474,     0.61507,      0.6154,     0.61494,     0.61451,     0.61418,     0.61513,     0.61489,     0.61435,     0.61603,     0.61672,     0.61726,\n",
       "            0.61783,     0.61864,     0.61946,     0.62028,      0.6211,     0.62101,      0.6218,     0.62164,     0.62148,     0.62132,     0.62116,     0.62241,     0.62259,     0.62277,     0.62295,     0.62313,     0.62331,     0.62349,     0.62477,     0.62527,     0.62578,     0.62698,     0.62756,\n",
       "            0.62795,     0.62834,     0.62829,     0.62803,     0.62778,     0.62811,     0.62862,     0.62921,     0.62994,     0.63309,     0.63367,     0.63455,     0.63542,     0.63574,     0.63607,      0.6364,     0.63811,     0.63864,     0.63919,     0.63995,     0.64111,     0.64288,      0.6435,\n",
       "            0.64404,     0.64469,     0.64546,     0.64582,     0.64608,     0.64634,      0.6466,     0.64685,     0.64722,     0.64763,     0.64805,     0.64998,     0.65076,     0.65285,     0.65232,      0.6537,     0.65421,     0.65472,     0.65613,     0.65662,     0.65703,     0.65743,     0.65804,\n",
       "            0.65884,     0.65847,     0.65869,     0.65892,     0.65915,     0.65937,      0.6596,     0.66007,     0.66064,     0.66056,     0.66138,      0.6636,     0.66443,     0.66579,     0.66577,     0.66556,     0.66536,      0.6649,     0.66432,      0.6639,     0.66423,     0.66476,     0.66529,\n",
       "            0.66583,     0.66636,     0.66702,     0.66786,     0.66902,     0.66811,     0.66742,     0.66827,      0.6686,     0.66805,     0.66785,     0.66766,     0.66746,     0.66878,     0.67031,     0.66959,     0.66908,     0.66984,     0.67178,     0.67158,     0.67138,     0.67118,      0.6729,\n",
       "            0.67334,     0.67378,     0.67348,      0.6739,     0.67431,     0.67472,     0.67535,     0.67613,     0.67613,      0.6757,     0.67589,     0.67612,     0.67636,     0.67659,     0.67682,     0.67705,     0.67679,     0.67768,     0.67776,     0.67739,     0.67837,     0.67995,     0.68061,\n",
       "            0.68095,     0.68129,     0.68162,     0.68355,     0.68413,     0.68472,     0.68574,      0.6863,     0.68571,     0.68528,     0.68703,     0.68735,     0.68768,     0.68801,     0.68834,     0.68863,     0.68891,      0.6892,     0.68948,     0.68977,     0.69149,     0.69112,      0.6908,\n",
       "             0.6906,      0.6904,     0.69021,     0.69232,     0.69316,      0.6946,     0.69629,     0.69612,     0.69616,     0.69641,     0.69666,     0.69692,     0.69717,     0.69742,     0.69946,     0.70032,     0.70091,     0.70073,     0.70054,     0.70036,     0.70017,     0.69997,     0.69978,\n",
       "            0.69958,     0.69982,     0.70025,     0.70068,     0.70111,     0.70091,     0.70054,     0.70194,     0.70356,      0.7032,     0.70397,     0.70484,     0.70452,     0.70343,     0.70318,     0.70293,     0.70279,      0.7038,     0.70415,     0.70365,     0.70353,      0.7034,     0.70328,\n",
       "            0.70315,     0.70303,      0.7057,     0.70667,     0.70704,      0.7074,     0.70776,     0.70812,     0.70886,     0.70977,     0.70945,     0.70974,     0.71035,     0.71096,     0.71128,     0.71154,      0.7118,     0.71206,     0.71232,     0.71259,     0.71285,     0.71347,     0.71408,\n",
       "            0.71639,     0.71594,     0.71781,     0.71946,     0.71993,     0.72041,     0.72088,     0.72171,     0.72691,      0.7273,     0.72768,     0.72807,     0.72845,     0.72795,     0.72787,     0.72779,     0.72771,     0.72763,     0.72754,     0.72746,     0.72738,      0.7273,     0.72716,\n",
       "            0.72698,      0.7268,     0.72661,     0.72703,     0.72768,     0.72833,     0.73001,     0.73017,     0.72993,     0.72969,     0.73054,     0.73152,     0.73195,     0.73235,     0.73274,     0.73314,     0.73346,     0.73277,     0.73241,       0.732,     0.73099,     0.73281,     0.73381,\n",
       "            0.73441,     0.73381,     0.73356,     0.73332,     0.73332,     0.73383,     0.73434,     0.73484,     0.73601,     0.73696,      0.7366,     0.73693,     0.73796,     0.73899,     0.74002,     0.74085,     0.74155,     0.74224,     0.74317,     0.74421,      0.7444,     0.74426,     0.74411,\n",
       "            0.74397,     0.74382,     0.74572,     0.74556,      0.7454,     0.74524,     0.74482,      0.7447,     0.74523,     0.74576,     0.74629,     0.74775,     0.74817,     0.74924,     0.74953,     0.74881,     0.74849,     0.74834,     0.74819,     0.74805,      0.7479,      0.7506,     0.75133,\n",
       "            0.75206,     0.75312,     0.75422,     0.75341,     0.75323,     0.75305,     0.75305,     0.75464,     0.75413,     0.75376,     0.75652,     0.75765,     0.75878,     0.75992,     0.76013,     0.75999,     0.75984,      0.7597,     0.75955,     0.75892,     0.76169,     0.76185,      0.7617,\n",
       "            0.76155,     0.76141,     0.76126,       0.761,     0.76063,     0.75965,     0.75947,     0.75928,      0.7591,      0.7587,     0.75807,      0.7597,     0.76127,     0.76063,     0.76025,     0.75913,     0.75875,     0.75747,     0.75822,      0.7575,     0.75711,     0.75947,     0.75872,\n",
       "            0.75806,     0.76037,     0.76014,     0.75992,     0.75969,      0.7591,     0.75857,     0.75818,     0.75787,      0.7576,     0.75734,     0.76055,     0.76156,     0.76379,     0.76339,     0.76294,     0.76241,     0.76736,     0.76924,      0.7718,     0.77104,     0.77086,     0.77068,\n",
       "            0.77051,     0.77033,     0.77015,     0.76998,      0.7698,     0.76962,     0.76939,     0.76899,     0.76687,     0.76577,     0.76481,     0.76775,     0.76912,     0.77117,     0.77061,     0.76939,     0.76915,     0.76891,     0.77055,     0.76921,     0.77367,     0.77325,      0.7728,\n",
       "            0.77223,     0.77061,     0.76888,     0.76958,     0.76868,     0.76899,     0.77301,     0.77182,     0.77137,      0.7711,     0.76779,     0.76732,     0.76715,     0.76832,     0.76993,     0.77589,     0.77525,       0.776,     0.77766,     0.77783,     0.77904,     0.78075,     0.78433,\n",
       "            0.78369,     0.78318,     0.78269,     0.78208,     0.78047,      0.7798,     0.77831,     0.77781,     0.77781,     0.77592,     0.77419,     0.77388,     0.77358,     0.77327,     0.77252,     0.77135,     0.77079,      0.7717,     0.77094,     0.76937,     0.76903,      0.7687,     0.76475,\n",
       "            0.76394,     0.76993,     0.76773,     0.76691,     0.76751,     0.76957,     0.77521,     0.77498,     0.77044,     0.76981,     0.77095,     0.77318,     0.77087,     0.77044,     0.76951,     0.77006,     0.76906,     0.77228,     0.77566,      0.7868,     0.78586,     0.78082,     0.78008,\n",
       "             0.7814,     0.78428,     0.78325,     0.78536,     0.79084,     0.79255,     0.79149,     0.79042,     0.78281,     0.78165,     0.77699,     0.78037,     0.77976,     0.77914,     0.78118,     0.77992,     0.77673,      0.7735,     0.77816,     0.78261,     0.77511,     0.77366,     0.76778,\n",
       "             0.7592,     0.74997,     0.74817,     0.75038,     0.75903,     0.76646,     0.76467,     0.76285,     0.74349,     0.74133,     0.75471,     0.79136,     0.79856,     0.80326,     0.81336,     0.82023,     0.81837,      0.8145,     0.81351,     0.81253,     0.79663,     0.79064,     0.77721,\n",
       "            0.77613,     0.77506,     0.77398,     0.77171,     0.76644,     0.77689,     0.78049,      0.7701,       0.755,     0.75083,      0.7479,     0.74527,     0.73158,     0.72301,     0.71492,     0.70251,     0.69886,     0.68417,     0.67736,     0.67421,     0.67106,     0.66791,     0.66191,\n",
       "            0.69052,     0.67849,     0.66938,     0.68754,     0.65839,     0.76312,     0.75709,     0.75106,      0.7226,     0.71248,     0.70747,     0.70246,     0.69746,     0.69245,     0.66678,     0.65979,     0.65289,     0.64599,     0.63909,     0.62132,     0.59353,     0.50305,     0.52135,\n",
       "            0.53966,     0.55796,     0.57465,     0.58685,     0.59906,     0.61126,     0.62346,     0.63567,     0.64787,     0.66007,     0.70853,     0.79964,     0.78724,     0.77442,     0.76161,     0.74951,     0.74434,     0.73916,     0.73398,     0.72881,     0.72363,     0.71845,     0.71328,\n",
       "             0.7081,     0.70292,     0.69775,     0.69257,     0.68739,     0.68222,     0.67704,     0.67186,     0.66668,     0.63571,     0.60465,     0.57359,     0.54253,     0.51147,           1,           1,           1,           1,           1,           1,           1,           1,           1,\n",
       "                  1,           1,           1,           1,           1,           1,           1,           1,           1,           1,           1,           1,           1,           1,           1,           1,           1,           1,           1,           1,           1,           1,           1,\n",
       "                  1,           1,           1,           1,           1,           1,           1,           1,           1,           1,           1,           1,           1,           1,           1,           1,           1,           1,           1,           1,           1,           1,           1,\n",
       "                  1,           1,           1,           1,           1,           1,           1,           1,           1,           1,           1,           1,           1,           1,           1,           1,           1,           1,           1,           1,           1,           1,           1,\n",
       "                  1,           1,           1,           1,           1,           1,           1,           1,           1,           1,           1,           1,           1,           1,           1,           1,           1,           1,           1,           1,           1,           1,           1,\n",
       "                  1,           1,           1,           1,           1,           1,           1,           1,           1,           1,           1,           1,           1,           1,           1,           1,           1,           1,           1,           1,           1,           1,           1,\n",
       "                  1,           1,           1,           1,           1,           1,           1,           1,           1,           1,           1]]), 'Confidence', 'Precision'], [array([          0,    0.001001,    0.002002,    0.003003,    0.004004,    0.005005,    0.006006,    0.007007,    0.008008,    0.009009,     0.01001,    0.011011,    0.012012,    0.013013,    0.014014,    0.015015,    0.016016,    0.017017,    0.018018,    0.019019,     0.02002,    0.021021,    0.022022,    0.023023,\n",
       "          0.024024,    0.025025,    0.026026,    0.027027,    0.028028,    0.029029,     0.03003,    0.031031,    0.032032,    0.033033,    0.034034,    0.035035,    0.036036,    0.037037,    0.038038,    0.039039,     0.04004,    0.041041,    0.042042,    0.043043,    0.044044,    0.045045,    0.046046,    0.047047,\n",
       "          0.048048,    0.049049,     0.05005,    0.051051,    0.052052,    0.053053,    0.054054,    0.055055,    0.056056,    0.057057,    0.058058,    0.059059,     0.06006,    0.061061,    0.062062,    0.063063,    0.064064,    0.065065,    0.066066,    0.067067,    0.068068,    0.069069,     0.07007,    0.071071,\n",
       "          0.072072,    0.073073,    0.074074,    0.075075,    0.076076,    0.077077,    0.078078,    0.079079,     0.08008,    0.081081,    0.082082,    0.083083,    0.084084,    0.085085,    0.086086,    0.087087,    0.088088,    0.089089,     0.09009,    0.091091,    0.092092,    0.093093,    0.094094,    0.095095,\n",
       "          0.096096,    0.097097,    0.098098,    0.099099,      0.1001,      0.1011,      0.1021,      0.1031,      0.1041,     0.10511,     0.10611,     0.10711,     0.10811,     0.10911,     0.11011,     0.11111,     0.11211,     0.11311,     0.11411,     0.11512,     0.11612,     0.11712,     0.11812,     0.11912,\n",
       "           0.12012,     0.12112,     0.12212,     0.12312,     0.12412,     0.12513,     0.12613,     0.12713,     0.12813,     0.12913,     0.13013,     0.13113,     0.13213,     0.13313,     0.13413,     0.13514,     0.13614,     0.13714,     0.13814,     0.13914,     0.14014,     0.14114,     0.14214,     0.14314,\n",
       "           0.14414,     0.14515,     0.14615,     0.14715,     0.14815,     0.14915,     0.15015,     0.15115,     0.15215,     0.15315,     0.15415,     0.15516,     0.15616,     0.15716,     0.15816,     0.15916,     0.16016,     0.16116,     0.16216,     0.16316,     0.16416,     0.16517,     0.16617,     0.16717,\n",
       "           0.16817,     0.16917,     0.17017,     0.17117,     0.17217,     0.17317,     0.17417,     0.17518,     0.17618,     0.17718,     0.17818,     0.17918,     0.18018,     0.18118,     0.18218,     0.18318,     0.18418,     0.18519,     0.18619,     0.18719,     0.18819,     0.18919,     0.19019,     0.19119,\n",
       "           0.19219,     0.19319,     0.19419,      0.1952,      0.1962,      0.1972,      0.1982,      0.1992,      0.2002,      0.2012,      0.2022,      0.2032,      0.2042,     0.20521,     0.20621,     0.20721,     0.20821,     0.20921,     0.21021,     0.21121,     0.21221,     0.21321,     0.21421,     0.21522,\n",
       "           0.21622,     0.21722,     0.21822,     0.21922,     0.22022,     0.22122,     0.22222,     0.22322,     0.22422,     0.22523,     0.22623,     0.22723,     0.22823,     0.22923,     0.23023,     0.23123,     0.23223,     0.23323,     0.23423,     0.23524,     0.23624,     0.23724,     0.23824,     0.23924,\n",
       "           0.24024,     0.24124,     0.24224,     0.24324,     0.24424,     0.24525,     0.24625,     0.24725,     0.24825,     0.24925,     0.25025,     0.25125,     0.25225,     0.25325,     0.25425,     0.25526,     0.25626,     0.25726,     0.25826,     0.25926,     0.26026,     0.26126,     0.26226,     0.26326,\n",
       "           0.26426,     0.26527,     0.26627,     0.26727,     0.26827,     0.26927,     0.27027,     0.27127,     0.27227,     0.27327,     0.27427,     0.27528,     0.27628,     0.27728,     0.27828,     0.27928,     0.28028,     0.28128,     0.28228,     0.28328,     0.28428,     0.28529,     0.28629,     0.28729,\n",
       "           0.28829,     0.28929,     0.29029,     0.29129,     0.29229,     0.29329,     0.29429,      0.2953,      0.2963,      0.2973,      0.2983,      0.2993,      0.3003,      0.3013,      0.3023,      0.3033,      0.3043,     0.30531,     0.30631,     0.30731,     0.30831,     0.30931,     0.31031,     0.31131,\n",
       "           0.31231,     0.31331,     0.31431,     0.31532,     0.31632,     0.31732,     0.31832,     0.31932,     0.32032,     0.32132,     0.32232,     0.32332,     0.32432,     0.32533,     0.32633,     0.32733,     0.32833,     0.32933,     0.33033,     0.33133,     0.33233,     0.33333,     0.33433,     0.33534,\n",
       "           0.33634,     0.33734,     0.33834,     0.33934,     0.34034,     0.34134,     0.34234,     0.34334,     0.34434,     0.34535,     0.34635,     0.34735,     0.34835,     0.34935,     0.35035,     0.35135,     0.35235,     0.35335,     0.35435,     0.35536,     0.35636,     0.35736,     0.35836,     0.35936,\n",
       "           0.36036,     0.36136,     0.36236,     0.36336,     0.36436,     0.36537,     0.36637,     0.36737,     0.36837,     0.36937,     0.37037,     0.37137,     0.37237,     0.37337,     0.37437,     0.37538,     0.37638,     0.37738,     0.37838,     0.37938,     0.38038,     0.38138,     0.38238,     0.38338,\n",
       "           0.38438,     0.38539,     0.38639,     0.38739,     0.38839,     0.38939,     0.39039,     0.39139,     0.39239,     0.39339,     0.39439,      0.3954,      0.3964,      0.3974,      0.3984,      0.3994,      0.4004,      0.4014,      0.4024,      0.4034,      0.4044,     0.40541,     0.40641,     0.40741,\n",
       "           0.40841,     0.40941,     0.41041,     0.41141,     0.41241,     0.41341,     0.41441,     0.41542,     0.41642,     0.41742,     0.41842,     0.41942,     0.42042,     0.42142,     0.42242,     0.42342,     0.42442,     0.42543,     0.42643,     0.42743,     0.42843,     0.42943,     0.43043,     0.43143,\n",
       "           0.43243,     0.43343,     0.43443,     0.43544,     0.43644,     0.43744,     0.43844,     0.43944,     0.44044,     0.44144,     0.44244,     0.44344,     0.44444,     0.44545,     0.44645,     0.44745,     0.44845,     0.44945,     0.45045,     0.45145,     0.45245,     0.45345,     0.45445,     0.45546,\n",
       "           0.45646,     0.45746,     0.45846,     0.45946,     0.46046,     0.46146,     0.46246,     0.46346,     0.46446,     0.46547,     0.46647,     0.46747,     0.46847,     0.46947,     0.47047,     0.47147,     0.47247,     0.47347,     0.47447,     0.47548,     0.47648,     0.47748,     0.47848,     0.47948,\n",
       "           0.48048,     0.48148,     0.48248,     0.48348,     0.48448,     0.48549,     0.48649,     0.48749,     0.48849,     0.48949,     0.49049,     0.49149,     0.49249,     0.49349,     0.49449,      0.4955,      0.4965,      0.4975,      0.4985,      0.4995,      0.5005,      0.5015,      0.5025,      0.5035,\n",
       "            0.5045,     0.50551,     0.50651,     0.50751,     0.50851,     0.50951,     0.51051,     0.51151,     0.51251,     0.51351,     0.51451,     0.51552,     0.51652,     0.51752,     0.51852,     0.51952,     0.52052,     0.52152,     0.52252,     0.52352,     0.52452,     0.52553,     0.52653,     0.52753,\n",
       "           0.52853,     0.52953,     0.53053,     0.53153,     0.53253,     0.53353,     0.53453,     0.53554,     0.53654,     0.53754,     0.53854,     0.53954,     0.54054,     0.54154,     0.54254,     0.54354,     0.54454,     0.54555,     0.54655,     0.54755,     0.54855,     0.54955,     0.55055,     0.55155,\n",
       "           0.55255,     0.55355,     0.55455,     0.55556,     0.55656,     0.55756,     0.55856,     0.55956,     0.56056,     0.56156,     0.56256,     0.56356,     0.56456,     0.56557,     0.56657,     0.56757,     0.56857,     0.56957,     0.57057,     0.57157,     0.57257,     0.57357,     0.57457,     0.57558,\n",
       "           0.57658,     0.57758,     0.57858,     0.57958,     0.58058,     0.58158,     0.58258,     0.58358,     0.58458,     0.58559,     0.58659,     0.58759,     0.58859,     0.58959,     0.59059,     0.59159,     0.59259,     0.59359,     0.59459,      0.5956,      0.5966,      0.5976,      0.5986,      0.5996,\n",
       "            0.6006,      0.6016,      0.6026,      0.6036,      0.6046,     0.60561,     0.60661,     0.60761,     0.60861,     0.60961,     0.61061,     0.61161,     0.61261,     0.61361,     0.61461,     0.61562,     0.61662,     0.61762,     0.61862,     0.61962,     0.62062,     0.62162,     0.62262,     0.62362,\n",
       "           0.62462,     0.62563,     0.62663,     0.62763,     0.62863,     0.62963,     0.63063,     0.63163,     0.63263,     0.63363,     0.63463,     0.63564,     0.63664,     0.63764,     0.63864,     0.63964,     0.64064,     0.64164,     0.64264,     0.64364,     0.64464,     0.64565,     0.64665,     0.64765,\n",
       "           0.64865,     0.64965,     0.65065,     0.65165,     0.65265,     0.65365,     0.65465,     0.65566,     0.65666,     0.65766,     0.65866,     0.65966,     0.66066,     0.66166,     0.66266,     0.66366,     0.66466,     0.66567,     0.66667,     0.66767,     0.66867,     0.66967,     0.67067,     0.67167,\n",
       "           0.67267,     0.67367,     0.67467,     0.67568,     0.67668,     0.67768,     0.67868,     0.67968,     0.68068,     0.68168,     0.68268,     0.68368,     0.68468,     0.68569,     0.68669,     0.68769,     0.68869,     0.68969,     0.69069,     0.69169,     0.69269,     0.69369,     0.69469,      0.6957,\n",
       "            0.6967,      0.6977,      0.6987,      0.6997,      0.7007,      0.7017,      0.7027,      0.7037,      0.7047,     0.70571,     0.70671,     0.70771,     0.70871,     0.70971,     0.71071,     0.71171,     0.71271,     0.71371,     0.71471,     0.71572,     0.71672,     0.71772,     0.71872,     0.71972,\n",
       "           0.72072,     0.72172,     0.72272,     0.72372,     0.72472,     0.72573,     0.72673,     0.72773,     0.72873,     0.72973,     0.73073,     0.73173,     0.73273,     0.73373,     0.73473,     0.73574,     0.73674,     0.73774,     0.73874,     0.73974,     0.74074,     0.74174,     0.74274,     0.74374,\n",
       "           0.74474,     0.74575,     0.74675,     0.74775,     0.74875,     0.74975,     0.75075,     0.75175,     0.75275,     0.75375,     0.75475,     0.75576,     0.75676,     0.75776,     0.75876,     0.75976,     0.76076,     0.76176,     0.76276,     0.76376,     0.76476,     0.76577,     0.76677,     0.76777,\n",
       "           0.76877,     0.76977,     0.77077,     0.77177,     0.77277,     0.77377,     0.77477,     0.77578,     0.77678,     0.77778,     0.77878,     0.77978,     0.78078,     0.78178,     0.78278,     0.78378,     0.78478,     0.78579,     0.78679,     0.78779,     0.78879,     0.78979,     0.79079,     0.79179,\n",
       "           0.79279,     0.79379,     0.79479,      0.7958,      0.7968,      0.7978,      0.7988,      0.7998,      0.8008,      0.8018,      0.8028,      0.8038,      0.8048,     0.80581,     0.80681,     0.80781,     0.80881,     0.80981,     0.81081,     0.81181,     0.81281,     0.81381,     0.81481,     0.81582,\n",
       "           0.81682,     0.81782,     0.81882,     0.81982,     0.82082,     0.82182,     0.82282,     0.82382,     0.82482,     0.82583,     0.82683,     0.82783,     0.82883,     0.82983,     0.83083,     0.83183,     0.83283,     0.83383,     0.83483,     0.83584,     0.83684,     0.83784,     0.83884,     0.83984,\n",
       "           0.84084,     0.84184,     0.84284,     0.84384,     0.84484,     0.84585,     0.84685,     0.84785,     0.84885,     0.84985,     0.85085,     0.85185,     0.85285,     0.85385,     0.85485,     0.85586,     0.85686,     0.85786,     0.85886,     0.85986,     0.86086,     0.86186,     0.86286,     0.86386,\n",
       "           0.86486,     0.86587,     0.86687,     0.86787,     0.86887,     0.86987,     0.87087,     0.87187,     0.87287,     0.87387,     0.87487,     0.87588,     0.87688,     0.87788,     0.87888,     0.87988,     0.88088,     0.88188,     0.88288,     0.88388,     0.88488,     0.88589,     0.88689,     0.88789,\n",
       "           0.88889,     0.88989,     0.89089,     0.89189,     0.89289,     0.89389,     0.89489,      0.8959,      0.8969,      0.8979,      0.8989,      0.8999,      0.9009,      0.9019,      0.9029,      0.9039,      0.9049,     0.90591,     0.90691,     0.90791,     0.90891,     0.90991,     0.91091,     0.91191,\n",
       "           0.91291,     0.91391,     0.91491,     0.91592,     0.91692,     0.91792,     0.91892,     0.91992,     0.92092,     0.92192,     0.92292,     0.92392,     0.92492,     0.92593,     0.92693,     0.92793,     0.92893,     0.92993,     0.93093,     0.93193,     0.93293,     0.93393,     0.93493,     0.93594,\n",
       "           0.93694,     0.93794,     0.93894,     0.93994,     0.94094,     0.94194,     0.94294,     0.94394,     0.94494,     0.94595,     0.94695,     0.94795,     0.94895,     0.94995,     0.95095,     0.95195,     0.95295,     0.95395,     0.95495,     0.95596,     0.95696,     0.95796,     0.95896,     0.95996,\n",
       "           0.96096,     0.96196,     0.96296,     0.96396,     0.96496,     0.96597,     0.96697,     0.96797,     0.96897,     0.96997,     0.97097,     0.97197,     0.97297,     0.97397,     0.97497,     0.97598,     0.97698,     0.97798,     0.97898,     0.97998,     0.98098,     0.98198,     0.98298,     0.98398,\n",
       "           0.98498,     0.98599,     0.98699,     0.98799,     0.98899,     0.98999,     0.99099,     0.99199,     0.99299,     0.99399,     0.99499,       0.996,       0.997,       0.998,       0.999,           1]), array([[    0.94089,     0.94089,     0.93596,     0.92857,     0.92365,     0.91626,     0.91133,     0.90887,      0.9064,      0.9064,     0.90148,     0.89655,     0.89655,     0.89655,     0.89655,     0.89409,     0.89163,     0.88916,      0.8867,      0.8867,      0.8867,      0.8867,     0.88424,\n",
       "            0.88177,     0.87931,     0.87931,     0.87685,     0.87685,     0.87685,     0.87192,     0.87192,     0.87192,     0.87192,     0.87192,     0.87192,     0.87192,     0.87192,     0.86946,     0.86946,     0.86946,     0.86946,     0.86946,     0.86946,     0.86946,     0.86946,     0.86946,\n",
       "            0.86946,       0.867,       0.867,       0.867,       0.867,       0.867,       0.867,       0.867,       0.867,       0.867,     0.86679,     0.86453,     0.86453,     0.86453,     0.86453,     0.86453,     0.86453,     0.86453,     0.86453,     0.86453,     0.86453,     0.86453,     0.85961,\n",
       "            0.85961,     0.85961,     0.85961,      0.8572,     0.85714,     0.85714,     0.85714,     0.85714,     0.85714,     0.85714,     0.85468,     0.85468,     0.85468,     0.85468,     0.85468,     0.85468,     0.85468,     0.85468,     0.85468,     0.85468,     0.85468,     0.85222,     0.85222,\n",
       "            0.85222,     0.85222,     0.85222,     0.84975,     0.84975,     0.84975,     0.84975,     0.84975,     0.84975,     0.84975,     0.84975,     0.84794,     0.84729,     0.84729,     0.84483,     0.84483,     0.84483,     0.84483,     0.84482,     0.84236,     0.84236,     0.84236,     0.84236,\n",
       "            0.84236,     0.84236,     0.84236,     0.84236,     0.84236,     0.84236,     0.84236,     0.84236,     0.84236,     0.84236,     0.84236,     0.84236,     0.84236,     0.84236,     0.84236,      0.8399,      0.8399,      0.8399,      0.8399,      0.8384,     0.83744,     0.83744,     0.83744,\n",
       "            0.83644,     0.83498,     0.83498,     0.83315,     0.83251,     0.83251,     0.83251,     0.83251,     0.83251,     0.83251,     0.83251,     0.83251,     0.83251,     0.83251,     0.83251,     0.83251,       0.832,     0.83005,     0.83005,     0.83005,     0.83005,     0.83005,     0.83005,\n",
       "            0.83005,     0.83005,     0.83005,     0.83005,     0.82739,     0.82584,     0.82294,     0.82266,     0.82266,     0.82266,     0.82266,     0.82266,     0.82266,     0.82266,     0.82266,     0.82263,     0.82176,     0.82088,      0.8202,      0.8202,      0.8202,      0.8202,      0.8202,\n",
       "             0.8202,      0.8202,      0.8202,      0.8202,      0.8202,      0.8202,      0.8202,      0.8202,       0.819,     0.81773,     0.81773,     0.81527,     0.81527,     0.81527,     0.81527,     0.81527,     0.81527,     0.81527,     0.81527,     0.81519,     0.81418,     0.81317,     0.81281,\n",
       "            0.81281,     0.81281,     0.81281,     0.81281,     0.81281,     0.81281,     0.81101,     0.81034,     0.81034,     0.81034,     0.80816,     0.80788,     0.80788,     0.80788,     0.80788,     0.80788,     0.80788,     0.80542,     0.80542,     0.80514,      0.8033,     0.80296,     0.80296,\n",
       "            0.80171,     0.80049,     0.80049,     0.80049,     0.80049,     0.80049,     0.80049,     0.80049,     0.80049,     0.80049,     0.80049,     0.80049,     0.80049,     0.80049,      0.7985,     0.79706,     0.79594,     0.79557,      0.7931,     0.78865,     0.78818,     0.78818,     0.78818,\n",
       "            0.78818,     0.78818,     0.78818,     0.78818,     0.78818,     0.78702,     0.78559,     0.78506,     0.78453,       0.784,     0.78347,     0.78325,     0.78325,     0.78325,     0.78325,     0.78325,     0.78325,     0.78325,     0.78325,     0.78325,     0.78325,     0.78325,     0.78325,\n",
       "            0.78325,     0.78325,     0.78267,     0.78183,     0.78099,     0.78079,     0.78079,     0.78079,     0.78079,     0.78079,     0.78079,     0.78079,     0.78079,     0.78079,     0.78079,     0.78079,     0.78079,     0.78079,     0.78079,     0.78079,     0.78079,     0.78079,     0.78079,\n",
       "            0.78079,     0.78079,     0.78079,     0.78079,     0.78079,     0.78079,     0.78079,     0.78079,     0.78079,     0.78079,     0.78079,     0.78079,     0.78079,     0.77818,     0.77586,     0.77586,     0.77586,     0.77586,     0.77586,     0.77586,     0.77586,     0.77586,     0.77586,\n",
       "            0.77586,      0.7734,      0.7734,      0.7734,      0.7734,      0.7734,      0.7734,      0.7734,      0.7734,     0.77094,     0.77094,     0.77094,     0.77094,     0.77094,      0.7703,     0.76958,     0.76885,     0.76728,     0.76529,     0.76385,     0.76355,     0.76355,     0.76355,\n",
       "            0.76355,     0.76355,     0.76355,     0.76355,     0.76174,      0.7586,     0.75616,     0.75616,     0.75534,     0.75346,     0.75279,     0.75211,     0.75144,     0.75123,     0.75123,     0.74874,     0.74631,     0.74631,     0.74609,     0.74541,     0.74474,     0.74407,     0.74384,\n",
       "            0.74384,     0.74384,     0.74138,     0.74138,     0.74138,     0.74138,     0.74138,     0.74138,     0.74045,     0.73901,     0.73892,     0.73892,     0.73892,     0.73892,     0.73892,     0.73892,     0.73645,     0.73645,     0.73564,     0.73438,     0.73399,     0.73399,     0.73399,\n",
       "            0.73399,     0.73399,     0.73399,     0.73399,     0.73399,     0.73399,     0.73399,     0.73286,     0.73084,      0.7294,     0.72906,     0.72906,     0.72906,     0.72906,     0.72906,     0.72906,     0.72906,     0.72906,     0.72906,     0.72906,     0.72871,     0.72745,     0.72638,\n",
       "            0.72571,     0.72503,     0.72436,     0.72414,     0.72414,     0.72414,     0.72414,      0.7222,     0.72167,     0.72167,     0.72167,     0.72167,     0.72167,     0.72167,     0.72167,     0.72167,     0.72151,     0.72088,     0.72025,     0.71962,     0.71897,      0.7183,     0.71763,\n",
       "            0.71696,     0.71675,     0.71675,     0.71675,     0.71675,     0.71575,     0.71449,     0.71429,     0.71319,     0.71193,     0.71182,     0.71182,     0.71061,     0.70689,     0.70605,      0.7052,     0.70443,     0.70443,     0.70348,      0.7018,     0.70138,     0.70096,     0.70054,\n",
       "            0.70012,      0.6997,     0.69951,     0.69951,     0.69951,     0.69951,     0.69951,     0.69951,     0.69951,     0.69951,     0.69763,     0.69704,     0.69704,     0.69704,     0.69704,     0.69704,     0.69704,     0.69704,     0.69704,     0.69704,     0.69704,     0.69704,     0.69704,\n",
       "            0.69683,     0.69458,     0.69458,     0.69458,     0.69458,     0.69458,     0.69458,     0.69458,     0.69458,     0.69458,     0.69458,     0.69458,     0.69458,     0.69201,     0.69172,     0.69144,     0.69116,     0.69088,      0.6906,     0.69032,     0.69004,     0.68976,     0.68926,\n",
       "            0.68863,       0.688,     0.68737,     0.68719,     0.68719,     0.68719,     0.68719,      0.6865,     0.68566,     0.68482,     0.68473,     0.68473,     0.68473,     0.68473,     0.68473,     0.68473,     0.68457,     0.68216,      0.6809,     0.67946,     0.67488,     0.67488,     0.67488,\n",
       "            0.67429,      0.6722,     0.67136,     0.67051,     0.66995,     0.66995,     0.66995,     0.66995,     0.66995,     0.66938,     0.66812,     0.66749,     0.66749,     0.66749,     0.66749,     0.66749,     0.66749,     0.66749,     0.66749,     0.66749,     0.66712,     0.66662,     0.66611,\n",
       "            0.66561,      0.6651,     0.66455,     0.66399,     0.66343,     0.66287,     0.66142,      0.6601,      0.6601,      0.6601,      0.6601,      0.6601,     0.65859,     0.65764,       0.656,     0.65347,     0.65236,     0.65185,     0.65135,     0.65084,     0.65034,     0.65025,     0.65025,\n",
       "            0.65025,     0.65025,     0.65025,     0.64719,     0.64656,     0.64593,     0.64532,     0.64393,     0.64213,     0.64087,     0.64039,     0.64039,     0.64039,     0.64039,     0.64003,     0.63952,     0.63902,     0.63851,     0.63801,      0.6358,       0.633,     0.63034,     0.62983,\n",
       "            0.62933,     0.62882,     0.62832,     0.62741,     0.62615,     0.62279,     0.62216,     0.62153,      0.6209,     0.61956,     0.61576,     0.61517,     0.61265,     0.61048,     0.60922,     0.60549,     0.60423,     0.60002,     0.59606,     0.59244,     0.59118,     0.59113,     0.58863,\n",
       "            0.58621,     0.58616,     0.58544,     0.58472,       0.584,      0.5821,     0.58043,     0.57917,     0.57821,     0.57737,     0.57653,     0.57635,     0.57635,     0.57344,     0.57218,     0.57075,     0.56906,     0.56897,     0.56652,     0.56646,     0.56402,     0.56346,     0.56289,\n",
       "            0.56233,     0.56177,     0.56121,     0.56065,     0.56009,     0.55953,     0.55879,     0.55752,     0.55095,     0.54758,     0.54466,     0.54187,     0.54187,     0.53955,     0.53782,     0.53414,     0.53342,     0.53269,     0.52939,     0.52463,     0.52202,     0.52076,     0.51943,\n",
       "            0.51775,     0.51301,     0.50803,     0.50181,     0.49928,     0.49754,     0.49754,     0.49154,     0.49028,     0.48125,     0.47236,      0.4711,     0.46798,     0.46552,     0.46552,     0.46048,      0.4588,     0.45813,     0.45813,     0.45703,     0.45074,     0.45074,     0.44788,\n",
       "            0.44619,     0.44484,     0.44357,     0.44197,     0.43782,     0.43614,     0.43237,     0.43111,     0.42249,     0.41791,     0.41378,     0.41306,     0.41234,     0.41162,      0.4064,     0.39884,     0.39758,     0.39131,     0.38963,     0.38618,     0.38546,     0.38473,     0.37633,\n",
       "            0.37464,     0.37438,     0.36635,     0.36467,     0.36207,     0.36207,     0.35961,     0.35629,     0.34718,     0.34483,     0.33744,     0.33744,     0.33146,     0.32238,      0.3207,     0.31773,     0.31034,     0.31034,     0.30658,     0.29997,     0.29829,     0.28957,     0.28831,\n",
       "            0.28174,      0.2776,     0.27591,      0.2734,     0.27008,     0.26348,     0.26179,     0.26011,     0.24857,     0.24689,     0.24028,     0.23629,     0.23545,     0.23461,     0.22862,     0.22694,     0.22279,     0.21675,     0.21675,     0.21282,     0.20375,     0.20206,     0.19545,\n",
       "            0.18638,     0.17731,     0.17563,     0.17488,     0.16995,     0.16976,     0.16807,     0.16639,     0.14993,     0.14824,     0.14778,     0.14778,     0.14778,     0.14532,     0.13955,     0.13486,     0.13318,     0.12979,     0.12895,      0.1281,     0.11578,     0.11163,     0.10311,\n",
       "            0.10248,     0.10185,     0.10122,    0.099927,    0.096059,    0.096059,    0.087588,    0.082521,    0.075912,    0.074229,    0.073084,    0.072074,    0.067143,    0.064298,    0.061774,    0.058182,    0.057172,    0.053374,     0.05171,    0.050989,    0.050267,    0.049546,    0.048243,\n",
       "           0.043977,    0.041592,    0.039909,    0.039409,    0.033259,    0.031753,    0.030744,    0.029734,    0.025706,    0.024428,    0.023867,    0.023306,    0.022745,    0.022184,    0.019716,    0.019146,    0.018585,    0.018024,    0.017463,    0.016222,     0.01442,   0.0098522,   0.0098522,\n",
       "          0.0098522,   0.0098522,   0.0098522,   0.0098522,   0.0098522,   0.0098522,   0.0098522,   0.0098522,   0.0098522,   0.0098522,   0.0098522,   0.0098522,   0.0092235,   0.0085923,   0.0079612,   0.0073748,   0.0072218,   0.0070688,   0.0069158,   0.0067628,   0.0066098,   0.0064567,   0.0063037,\n",
       "          0.0061507,   0.0059977,   0.0058447,   0.0056917,   0.0055387,   0.0053857,   0.0052327,   0.0050796,   0.0049266,   0.0044686,   0.0040096,   0.0035506,   0.0030915,   0.0026325,           0,           0,           0,           0,           0,           0,           0,           0,           0,\n",
       "                  0,           0,           0,           0,           0,           0,           0,           0,           0,           0,           0,           0,           0,           0,           0,           0,           0,           0,           0,           0,           0,           0,           0,\n",
       "                  0,           0,           0,           0,           0,           0,           0,           0,           0,           0,           0,           0,           0,           0,           0,           0,           0,           0,           0,           0,           0,           0,           0,\n",
       "                  0,           0,           0,           0,           0,           0,           0,           0,           0,           0,           0,           0,           0,           0,           0,           0,           0,           0,           0,           0,           0,           0,           0,\n",
       "                  0,           0,           0,           0,           0,           0,           0,           0,           0,           0,           0,           0,           0,           0,           0,           0,           0,           0,           0,           0,           0,           0,           0,\n",
       "                  0,           0,           0,           0,           0,           0,           0,           0,           0,           0,           0,           0,           0,           0,           0,           0,           0,           0,           0,           0,           0,           0,           0,\n",
       "                  0,           0,           0,           0,           0,           0,           0,           0,           0,           0,           0]]), 'Confidence', 'Recall']]\n",
       "fitness: 0.35455480297349345\n",
       "keys: ['metrics/precision(B)', 'metrics/recall(B)', 'metrics/mAP50(B)', 'metrics/mAP50-95(B)']\n",
       "maps: array([    0.31971])\n",
       "names: {0: 'bird'}\n",
       "plot: True\n",
       "results_dict: {'metrics/precision(B)': 0.6690843304037789, 'metrics/recall(B)': 0.7463054187192119, 'metrics/mAP50(B)': 0.6681688174662181, 'metrics/mAP50-95(B)': 0.3197088013631907, 'fitness': 0.35455480297349345}\n",
       "save_dir: PosixPath('runs/detect/train')\n",
       "speed: {'preprocess': 0.9140386944115828, 'inference': 0.8140282342897966, 'loss': 0.0001461447218653873, 'postprocess': 0.2790286770336313}\n",
       "task: 'detect'"
      ]
     },
     "execution_count": 1,
     "metadata": {},
     "output_type": "execute_result"
    }
   ],
   "source": [
    "from ultralytics import YOLO\n",
    "\n",
    "#path to YOLO dataset yaml file\n",
    "data_yaml = \"/media/andre/T5 EVO/Foraging HD/YOLO_model_input/04_Birds_background/data4.yaml\"\n",
    "\n",
    "#load a YOLOv8 model (YOLOv8n is the smallest version; use YOLOv8s, YOLOv8m, or YOLOv8l for larger models)\n",
    "model = YOLO(\"yolov8n.pt\")  # Pre-trained YOLOv8 model\n",
    "\n",
    "#train the model\n",
    "model.train(\n",
    "    data=data_yaml,  # Path to the dataset configuration file\n",
    "    epochs=60,       # Number of training epochs\n",
    "    batch=16,        # Batch size\n",
    "    imgsz=640,       # Image size for training\n",
    "    device=\"cuda\"     # Use GPU if available, otherwise \"cpu\"\n",
    ")\n",
    "\n"
   ]
  },
  {
   "cell_type": "code",
   "execution_count": 3,
   "id": "678cc7c5-d4ce-41ea-aba7-13af888d7f52",
   "metadata": {},
   "outputs": [
    {
     "name": "stdout",
     "output_type": "stream",
     "text": [
      "Ultralytics 8.3.37 🚀 Python-3.10.14 torch-2.1.2+cu121 CPU (AMD Ryzen 9 7950X3D 16-Core Processor)\n",
      "Model summary (fused): 168 layers, 3,005,843 parameters, 0 gradients, 8.1 GFLOPs\n",
      "\n",
      "\u001b[34m\u001b[1mPyTorch:\u001b[0m starting from 'runs/detect/train/weights/best.pt' with input shape (1, 3, 640, 640) BCHW and output shape(s) (1, 5, 8400) (5.9 MB)\n",
      "\n",
      "\u001b[34m\u001b[1mONNX:\u001b[0m starting export with onnx 1.17.0 opset 17...\n",
      "\u001b[34m\u001b[1mONNX:\u001b[0m slimming with onnxslim 0.1.48...\n",
      "\u001b[34m\u001b[1mONNX:\u001b[0m export success ✅ 0.5s, saved as 'runs/detect/train/weights/best.onnx' (11.7 MB)\n",
      "\n",
      "Export complete (0.6s)\n",
      "Results saved to \u001b[1m/home/andre/Desktop/Projects/fairywren/runs/detect/train/weights\u001b[0m\n",
      "Predict:         yolo predict task=detect model=runs/detect/train/weights/best.onnx imgsz=640  \n",
      "Validate:        yolo val task=detect model=runs/detect/train/weights/best.onnx imgsz=640 data=/media/andre/T5 EVO/Foraging HD/YOLO_model_input/04_Birds_background/data4.yaml  \n",
      "Visualize:       https://netron.app\n"
     ]
    },
    {
     "data": {
      "text/plain": [
       "'runs/detect/train/weights/best.onnx'"
      ]
     },
     "execution_count": 3,
     "metadata": {},
     "output_type": "execute_result"
    }
   ],
   "source": [
    "#when its done save the trained model\n",
    "model.export(format=\"onnx\")  # Export trained model to ONNX format"
   ]
  },
  {
   "cell_type": "code",
   "execution_count": null,
   "id": "7f424a09-9d65-4202-b9f2-b637f9600be9",
   "metadata": {},
   "outputs": [],
   "source": [
    "#check the results folder at and some prediction on the val dataset at:\n",
    "#/home/andre/Desktop/Hippo/Scripts/02_Antenna_detection/runs"
   ]
  },
  {
   "cell_type": "code",
   "execution_count": null,
   "id": "da997676-44d4-478c-8555-0db1446f3fc0",
   "metadata": {},
   "outputs": [],
   "source": []
  },
  {
   "cell_type": "code",
   "execution_count": null,
   "id": "753a2fd5-fc09-49e6-adbf-4d08237ae1dd",
   "metadata": {},
   "outputs": [],
   "source": []
  },
  {
   "cell_type": "code",
   "execution_count": null,
   "id": "7a902b6a-d3b3-48d1-a258-13ef85daa3fa",
   "metadata": {},
   "outputs": [],
   "source": []
  },
  {
   "cell_type": "code",
   "execution_count": null,
   "id": "3c9b1b27-bee3-4ef3-9b7c-fc078fa45ff4",
   "metadata": {},
   "outputs": [],
   "source": []
  }
 ],
 "metadata": {
  "kernelspec": {
   "display_name": "Python 3 (ipykernel)",
   "language": "python",
   "name": "python3"
  },
  "language_info": {
   "codemirror_mode": {
    "name": "ipython",
    "version": 3
   },
   "file_extension": ".py",
   "mimetype": "text/x-python",
   "name": "python",
   "nbconvert_exporter": "python",
   "pygments_lexer": "ipython3",
   "version": "3.10.14"
  }
 },
 "nbformat": 4,
 "nbformat_minor": 5
}

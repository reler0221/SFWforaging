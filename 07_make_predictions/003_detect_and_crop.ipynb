{
 "cells": [
  {
   "cell_type": "code",
   "execution_count": 1,
   "id": "06d52749-7863-4c49-be34-9e4be0392f32",
   "metadata": {},
   "outputs": [],
   "source": [
    "from ultralytics import YOLO\n",
    "import os\n",
    "import cv2\n",
    "import numpy as np\n"
   ]
  },
  {
   "cell_type": "code",
   "execution_count": 2,
   "id": "561df842-4f0c-414a-bd09-9f29ff931aec",
   "metadata": {},
   "outputs": [],
   "source": [
    "#Set directories\n",
    "\n",
    "input_images_dir = \"/media/andre/T5 EVO/Foraging HD/Test_set/Test_frames\"\n",
    "export_dir = \"/media/andre/T5 EVO/Foraging HD/Test_set/Test_results\""
   ]
  },
  {
   "cell_type": "code",
   "execution_count": 3,
   "id": "a638c800-b101-40d9-8bfc-dd85deed7c72",
   "metadata": {},
   "outputs": [],
   "source": [
    "#Load model\n",
    "\n",
    "model = YOLO(\"/media/andre/T5 EVO/Foraging HD/YOLO_model_output/Runs/train05/weights/best.pt\")"
   ]
  },
  {
   "cell_type": "code",
   "execution_count": 7,
   "id": "5d642b8e-dd84-4b37-8195-87120969baf0",
   "metadata": {},
   "outputs": [
    {
     "name": "stdout",
     "output_type": "stream",
     "text": [
      "['/media/andre/T5 EVO/Foraging HD/Test_set/Test_frames/20250103_training_01729_0001.jpg', '/media/andre/T5 EVO/Foraging HD/Test_set/Test_frames/20250103_training_01729_0002.jpg']\n"
     ]
    }
   ],
   "source": [
    "#Get images path\n",
    "filenames = [f for f in os.listdir(input_images_dir) if f.endswith(\".jpg\") and not f.startswith(\".\")]\n",
    "paths = list(map(lambda x: os.path.join(input_images_dir, x), filenames))\n",
    "\n",
    "#Choose fewer images\n",
    "paths = paths[:2]\n",
    "print(paths)"
   ]
  },
  {
   "cell_type": "code",
   "execution_count": 9,
   "id": "95b664b2-8a67-4f0e-b3d3-0b60d55246e4",
   "metadata": {},
   "outputs": [
    {
     "name": "stdout",
     "output_type": "stream",
     "text": [
      "\n",
      "0: 384x640 1 bird, 21.1ms\n",
      "Speed: 1.9ms preprocess, 21.1ms inference, 192.4ms postprocess per image at shape (1, 3, 384, 640)\n"
     ]
    },
    {
     "ename": "error",
     "evalue": "OpenCV(4.10.0) /io/opencv/modules/imgcodecs/src/loadsave.cpp:708: error: (-2:Unspecified error) could not find a writer for the specified extension in function 'imwrite_'\n",
     "output_type": "error",
     "traceback": [
      "\u001B[0;31m---------------------------------------------------------------------------\u001B[0m",
      "\u001B[0;31merror\u001B[0m                                     Traceback (most recent call last)",
      "Cell \u001B[0;32mIn[9], line 7\u001B[0m\n\u001B[1;32m      4\u001B[0m result \u001B[38;5;241m=\u001B[39m results[\u001B[38;5;241m0\u001B[39m]\n\u001B[1;32m      5\u001B[0m result\u001B[38;5;241m.\u001B[39msave_txt(os\u001B[38;5;241m.\u001B[39mpath\u001B[38;5;241m.\u001B[39mjoin(export_dir \u001B[38;5;241m+\u001B[39m \u001B[38;5;124m\"\u001B[39m\u001B[38;5;124m/labels/\u001B[39m\u001B[38;5;124m\"\u001B[39m ,os\u001B[38;5;241m.\u001B[39mpath\u001B[38;5;241m.\u001B[39msplitext(filenames[i])[\u001B[38;5;241m0\u001B[39m]), \n\u001B[1;32m      6\u001B[0m                 \u001B[38;5;28;01mTrue\u001B[39;00m)\n\u001B[0;32m----> 7\u001B[0m \u001B[43mresult\u001B[49m\u001B[38;5;241;43m.\u001B[39;49m\u001B[43msave\u001B[49m\u001B[43m(\u001B[49m\u001B[43mos\u001B[49m\u001B[38;5;241;43m.\u001B[39;49m\u001B[43mpath\u001B[49m\u001B[38;5;241;43m.\u001B[39;49m\u001B[43mjoin\u001B[49m\u001B[43m(\u001B[49m\u001B[43mexport_dir\u001B[49m\u001B[43m \u001B[49m\u001B[38;5;241;43m+\u001B[39;49m\u001B[43m \u001B[49m\u001B[38;5;124;43m\"\u001B[39;49m\u001B[38;5;124;43m/images/\u001B[39;49m\u001B[38;5;124;43m\"\u001B[39;49m\u001B[43m \u001B[49m\u001B[43m,\u001B[49m\u001B[43mos\u001B[49m\u001B[38;5;241;43m.\u001B[39;49m\u001B[43mpath\u001B[49m\u001B[38;5;241;43m.\u001B[39;49m\u001B[43msplitext\u001B[49m\u001B[43m(\u001B[49m\u001B[43mfilenames\u001B[49m\u001B[43m[\u001B[49m\u001B[43mi\u001B[49m\u001B[43m]\u001B[49m\u001B[43m)\u001B[49m\u001B[43m[\u001B[49m\u001B[38;5;241;43m0\u001B[39;49m\u001B[43m]\u001B[49m\u001B[43m)\u001B[49m\u001B[43m)\u001B[49m\n\u001B[1;32m      8\u001B[0m result\u001B[38;5;241m.\u001B[39msave_crop(export_dir \u001B[38;5;241m+\u001B[39m \u001B[38;5;124m\"\u001B[39m\u001B[38;5;124m/cropped/\u001B[39m\u001B[38;5;124m\"\u001B[39m, file_name \u001B[38;5;241m=\u001B[39m os\u001B[38;5;241m.\u001B[39mpath\u001B[38;5;241m.\u001B[39msplitext(filenames[i])[\u001B[38;5;241m0\u001B[39m])\n",
      "File \u001B[0;32m~/.conda/envs/fairywren/lib/python3.10/site-packages/ultralytics/engine/results.py:627\u001B[0m, in \u001B[0;36mResults.save\u001B[0;34m(self, filename, *args, **kwargs)\u001B[0m\n\u001B[1;32m    625\u001B[0m \u001B[38;5;28;01mif\u001B[39;00m \u001B[38;5;129;01mnot\u001B[39;00m filename:\n\u001B[1;32m    626\u001B[0m     filename \u001B[38;5;241m=\u001B[39m \u001B[38;5;124mf\u001B[39m\u001B[38;5;124m\"\u001B[39m\u001B[38;5;124mresults_\u001B[39m\u001B[38;5;132;01m{\u001B[39;00mPath(\u001B[38;5;28mself\u001B[39m\u001B[38;5;241m.\u001B[39mpath)\u001B[38;5;241m.\u001B[39mname\u001B[38;5;132;01m}\u001B[39;00m\u001B[38;5;124m\"\u001B[39m\n\u001B[0;32m--> 627\u001B[0m \u001B[38;5;28;43mself\u001B[39;49m\u001B[38;5;241;43m.\u001B[39;49m\u001B[43mplot\u001B[49m\u001B[43m(\u001B[49m\u001B[43msave\u001B[49m\u001B[38;5;241;43m=\u001B[39;49m\u001B[38;5;28;43;01mTrue\u001B[39;49;00m\u001B[43m,\u001B[49m\u001B[43m \u001B[49m\u001B[43mfilename\u001B[49m\u001B[38;5;241;43m=\u001B[39;49m\u001B[43mfilename\u001B[49m\u001B[43m,\u001B[49m\u001B[43m \u001B[49m\u001B[38;5;241;43m*\u001B[39;49m\u001B[43margs\u001B[49m\u001B[43m,\u001B[49m\u001B[43m \u001B[49m\u001B[38;5;241;43m*\u001B[39;49m\u001B[38;5;241;43m*\u001B[39;49m\u001B[43mkwargs\u001B[49m\u001B[43m)\u001B[49m\n\u001B[1;32m    628\u001B[0m \u001B[38;5;28;01mreturn\u001B[39;00m filename\n",
      "File \u001B[0;32m~/.conda/envs/fairywren/lib/python3.10/site-packages/ultralytics/engine/results.py:581\u001B[0m, in \u001B[0;36mResults.plot\u001B[0;34m(self, conf, line_width, font_size, font, pil, img, im_gpu, kpt_radius, kpt_line, labels, boxes, masks, probs, show, save, filename, color_mode)\u001B[0m\n\u001B[1;32m    579\u001B[0m \u001B[38;5;66;03m# Save results\u001B[39;00m\n\u001B[1;32m    580\u001B[0m \u001B[38;5;28;01mif\u001B[39;00m save:\n\u001B[0;32m--> 581\u001B[0m     \u001B[43mannotator\u001B[49m\u001B[38;5;241;43m.\u001B[39;49m\u001B[43msave\u001B[49m\u001B[43m(\u001B[49m\u001B[43mfilename\u001B[49m\u001B[43m)\u001B[49m\n\u001B[1;32m    583\u001B[0m \u001B[38;5;28;01mreturn\u001B[39;00m annotator\u001B[38;5;241m.\u001B[39mresult()\n",
      "File \u001B[0;32m~/.conda/envs/fairywren/lib/python3.10/site-packages/ultralytics/utils/plotting.py:537\u001B[0m, in \u001B[0;36mAnnotator.save\u001B[0;34m(self, filename)\u001B[0m\n\u001B[1;32m    535\u001B[0m \u001B[38;5;28;01mdef\u001B[39;00m \u001B[38;5;21msave\u001B[39m(\u001B[38;5;28mself\u001B[39m, filename\u001B[38;5;241m=\u001B[39m\u001B[38;5;124m\"\u001B[39m\u001B[38;5;124mimage.jpg\u001B[39m\u001B[38;5;124m\"\u001B[39m):\n\u001B[1;32m    536\u001B[0m \u001B[38;5;250m    \u001B[39m\u001B[38;5;124;03m\"\"\"Save the annotated image to 'filename'.\"\"\"\u001B[39;00m\n\u001B[0;32m--> 537\u001B[0m     \u001B[43mcv2\u001B[49m\u001B[38;5;241;43m.\u001B[39;49m\u001B[43mimwrite\u001B[49m\u001B[43m(\u001B[49m\u001B[43mfilename\u001B[49m\u001B[43m,\u001B[49m\u001B[43m \u001B[49m\u001B[43mnp\u001B[49m\u001B[38;5;241;43m.\u001B[39;49m\u001B[43masarray\u001B[49m\u001B[43m(\u001B[49m\u001B[38;5;28;43mself\u001B[39;49m\u001B[38;5;241;43m.\u001B[39;49m\u001B[43mim\u001B[49m\u001B[43m)\u001B[49m\u001B[43m)\u001B[49m\n",
      "\u001B[0;31merror\u001B[0m: OpenCV(4.10.0) /io/opencv/modules/imgcodecs/src/loadsave.cpp:708: error: (-2:Unspecified error) could not find a writer for the specified extension in function 'imwrite_'\n"
     ]
    }
   ],
   "source": [
    "# Get predictions\n",
    "results = [paths]\n",
    "\n",
    "    \n"
   ]
  },
  {
   "cell_type": "code",
   "execution_count": 73,
   "id": "78d2b332-a85c-4ab8-babb-a8bc7adcd0b9",
   "metadata": {},
   "outputs": [
    {
     "name": "stdout",
     "output_type": "stream",
     "text": [
      "[None, None, None, None, None, None, None, None, None, None, None, None, None, None, None, None, None, None, None, None, None, None, None, None, None, None, None, None, None, None, None, None, None, None, None, None, None, None, None, None, None, None, None, None, None, None, None, None, None, None, None, None, None, None, None, None, None, None, None, None, None, None, None, None, None, None, None, None, None, None, None, None, None, None, None, None, None, None, None, None, None, None, None, None, None]\n"
     ]
    }
   ],
   "source": [
    "print(images)"
   ]
  },
  {
   "cell_type": "code",
   "execution_count": 60,
   "id": "668a6a50-9f59-4f7e-9e3b-026432ffb0cf",
   "metadata": {},
   "outputs": [
    {
     "ename": "TypeError",
     "evalue": "'str' object is not callable",
     "output_type": "error",
     "traceback": [
      "\u001B[0;31m---------------------------------------------------------------------------\u001B[0m",
      "\u001B[0;31mTypeError\u001B[0m                                 Traceback (most recent call last)",
      "Cell \u001B[0;32mIn[60], line 1\u001B[0m\n\u001B[0;32m----> 1\u001B[0m \u001B[43mresult\u001B[49m\u001B[38;5;241;43m.\u001B[39;49m\u001B[43msave_dir\u001B[49m\u001B[43m(\u001B[49m\u001B[38;5;124;43m\"\u001B[39;49m\u001B[38;5;124;43m/test\u001B[39;49m\u001B[38;5;124;43m\"\u001B[39;49m\u001B[43m)\u001B[49m\n\u001B[1;32m      3\u001B[0m \u001B[38;5;28;01mfor\u001B[39;00m i, result \u001B[38;5;129;01min\u001B[39;00m \u001B[38;5;28menumerate\u001B[39m(results):\n\u001B[1;32m      4\u001B[0m     boxes \u001B[38;5;241m=\u001B[39m result\u001B[38;5;241m.\u001B[39mboxes\n",
      "\u001B[0;31mTypeError\u001B[0m: 'str' object is not callable"
     ]
    }
   ],
   "source": []
  },
  {
   "cell_type": "code",
   "execution_count": 57,
   "id": "207734a0-dfc9-47e8-a386-2c3871d1c07f",
   "metadata": {},
   "outputs": [
    {
     "data": {
      "text/plain": [
       "array([[[ 85,  99, 111],\n",
       "        [ 91, 105, 117],\n",
       "        [ 96, 110, 122],\n",
       "        ...,\n",
       "        [144, 167, 193],\n",
       "        [143, 166, 192],\n",
       "        [144, 167, 193]],\n",
       "\n",
       "       [[ 89, 103, 115],\n",
       "        [ 93, 107, 119],\n",
       "        [ 97, 111, 123],\n",
       "        ...,\n",
       "        [140, 163, 189],\n",
       "        [137, 160, 186],\n",
       "        [136, 159, 185]],\n",
       "\n",
       "       [[ 92, 106, 118],\n",
       "        [ 95, 109, 121],\n",
       "        [ 96, 110, 122],\n",
       "        ...,\n",
       "        [130, 153, 179],\n",
       "        [124, 147, 173],\n",
       "        [121, 144, 170]],\n",
       "\n",
       "       ...,\n",
       "\n",
       "       [[ 18,  28,  28],\n",
       "        [ 18,  28,  28],\n",
       "        [ 18,  28,  28],\n",
       "        ...,\n",
       "        [ 56, 107, 109],\n",
       "        [ 61, 112, 114],\n",
       "        [ 65, 116, 118]],\n",
       "\n",
       "       [[ 18,  28,  28],\n",
       "        [ 18,  28,  28],\n",
       "        [ 18,  28,  28],\n",
       "        ...,\n",
       "        [ 55, 106, 108],\n",
       "        [ 61, 112, 114],\n",
       "        [ 65, 116, 118]],\n",
       "\n",
       "       [[ 18,  28,  28],\n",
       "        [ 18,  28,  28],\n",
       "        [ 18,  28,  28],\n",
       "        ...,\n",
       "        [ 55, 106, 108],\n",
       "        [ 62, 113, 115],\n",
       "        [ 67, 118, 120]]], dtype=uint8)"
      ]
     },
     "execution_count": 57,
     "metadata": {},
     "output_type": "execute_result"
    }
   ],
   "source": []
  },
  {
   "cell_type": "code",
   "execution_count": null,
   "id": "b2175ee9-0761-46c8-91c0-ff15648192d3",
   "metadata": {},
   "outputs": [],
   "source": []
  },
  {
   "cell_type": "code",
   "execution_count": null,
   "id": "314bec69-ee6c-40ee-803d-a47007606f36",
   "metadata": {},
   "outputs": [],
   "source": []
  }
 ],
 "metadata": {
  "kernelspec": {
   "display_name": "Python 3 (ipykernel)",
   "language": "python",
   "name": "python3"
  },
  "language_info": {
   "codemirror_mode": {
    "name": "ipython",
    "version": 3
   },
   "file_extension": ".py",
   "mimetype": "text/x-python",
   "name": "python",
   "nbconvert_exporter": "python",
   "pygments_lexer": "ipython3",
   "version": "3.10.14"
  }
 },
 "nbformat": 4,
 "nbformat_minor": 5
}
